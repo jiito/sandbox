{
 "cells": [
  {
   "cell_type": "code",
   "execution_count": 2,
   "id": "6575d9d3",
   "metadata": {},
   "outputs": [],
   "source": [
    "import os\n",
    "import sys\n",
    "sys.path.append('root/TalkTuner-chatbot-llm-dashboard/src')\n",
    "\n",
    "from src.translator import ConversationTranslator\n",
    "\n",
    "\n"
   ]
  },
  {
   "cell_type": "code",
   "execution_count": 7,
   "id": "004e7bc0",
   "metadata": {},
   "outputs": [
    {
     "data": {
      "text/plain": [
       "'/root/TalkTuner-chatbot-llm-dashboard/lang_dataset/es/llama_age_1/conversation_0_age_adolescent_es.txt'"
      ]
     },
     "execution_count": 7,
     "metadata": {},
     "output_type": "execute_result"
    }
   ],
   "source": [
    "\n",
    "\n",
    "os.makedirs(\"/root/TalkTuner-chatbot-llm-dashboard/lang_dataset/es/llama_age_1/\", exist_ok=True)\n",
    "translator = ConversationTranslator(target_language=\"es\")  # Spanish\n",
    "translator.translate_file(\"/root/TalkTuner-chatbot-llm-dashboard/dataset/llama_age_1/conversation_0_age_adolescent.txt\",\n",
    "                          \"/root/TalkTuner-chatbot-llm-dashboard/lang_dataset/es/llama_age_1/conversation_0_age_adolescent_es.txt\")"
   ]
  },
  {
   "cell_type": "code",
   "execution_count": null,
   "id": "114ce997",
   "metadata": {},
   "outputs": [],
   "source": []
  }
 ],
 "metadata": {
  "kernelspec": {
   "display_name": "talktuner-gpu",
   "language": "python",
   "name": "python3"
  },
  "language_info": {
   "codemirror_mode": {
    "name": "ipython",
    "version": 3
   },
   "file_extension": ".py",
   "mimetype": "text/x-python",
   "name": "python",
   "nbconvert_exporter": "python",
   "pygments_lexer": "ipython3",
   "version": "3.9.13"
  }
 },
 "nbformat": 4,
 "nbformat_minor": 5
}
