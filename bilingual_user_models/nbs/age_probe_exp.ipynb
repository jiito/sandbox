{
 "cells": [
  {
   "cell_type": "code",
   "execution_count": 1,
   "id": "f91ea2de",
   "metadata": {},
   "outputs": [
    {
     "name": "stderr",
     "output_type": "stream",
     "text": [
      "/root/venv/lib/python3.11/site-packages/tqdm/auto.py:21: TqdmWarning: IProgress not found. Please update jupyter and ipywidgets. See https://ipywidgets.readthedocs.io/en/stable/user_install.html\n",
      "  from .autonotebook import tqdm as notebook_tqdm\n"
     ]
    }
   ],
   "source": [
    "import os\n",
    "import json\n",
    "import argparse\n",
    "import time\n",
    "from datetime import datetime\n",
    "from typing import Dict, List, Tuple\n",
    "\n",
    "import sys\n",
    "\n",
    "sys.path.append(\"/root/sandbox/bilingual_user_models/talk_tuner\")\n",
    "\n",
    "import torch\n",
    "import numpy as np\n",
    "from sklearn.metrics import confusion_matrix, ConfusionMatrixDisplay\n",
    "import matplotlib\n",
    "import matplotlib.pyplot as plt\n",
    "from transformers import AutoTokenizer, AutoModelForCausalLM\n",
    "\n",
    "from nnsight import LanguageModel as NNSightLanguageModel  # type: ignore\n",
    "\n",
    "from src.dataset import llama_v2_prompt\n",
    "from src.intervention_utils import return_classifier_dict\n",
    "from src.probes import LinearProbeClassification"
   ]
  },
  {
   "cell_type": "code",
   "execution_count": 2,
   "id": "29b0aa4e",
   "metadata": {},
   "outputs": [],
   "source": [
    "def load_hf(model_id: str, access_token: str | None, device_map: str, torch_dtype: str) -> Tuple[AutoTokenizer, AutoModelForCausalLM]:\n",
    "\n",
    "    dtype = torch.float16 if torch_dtype == \"float16\" else torch.bfloat16 if torch_dtype == \"bfloat16\" else torch.float32\n",
    "\n",
    "    tokenizer = AutoTokenizer.from_pretrained(\n",
    "        model_id,\n",
    "        token=access_token,\n",
    "        padding_side=\"left\",\n",
    "        trust_remote_code=True,\n",
    "    )\n",
    "    model = AutoModelForCausalLM.from_pretrained(\n",
    "        model_id,\n",
    "        token=access_token,\n",
    "        trust_remote_code=True,\n",
    "        torch_dtype=dtype,\n",
    "        device_map=device_map,\n",
    "    )\n",
    "    if tokenizer.pad_token is None:\n",
    "        tokenizer.add_special_tokens({\"pad_token\": \"[PAD]\"})\n",
    "        model.resize_token_embeddings(len(tokenizer))\n",
    "    model.eval()\n",
    "    return tokenizer, model"
   ]
  },
  {
   "cell_type": "code",
   "execution_count": 3,
   "id": "b6131289",
   "metadata": {},
   "outputs": [],
   "source": [
    "def build_triggers(default_labels: List[str]) -> Dict[str, List[str]]:\n",
    "    return {\n",
    "        \"child\": [\"play\"],\n",
    "        \"adolescent\": [\"like\"],\n",
    "        \"adult\": [\"reccomendations\"],\n",
    "        \"older_adult\": [\"computer\"],\n",
    "    }"
   ]
  },
  {
   "cell_type": "code",
   "execution_count": 4,
   "id": "0f813f56",
   "metadata": {},
   "outputs": [],
   "source": [
    "def prompts_from_triggers(triggers: Dict[str, List[str]]) -> Tuple[List[str], List[str]]:\n",
    "    prompts: List[str] = []\n",
    "    labels: List[str] = []\n",
    "    for label, words in triggers.items():\n",
    "        for w in words:\n",
    "            messages = [\n",
    "                {\"role\": \"user\", \"content\": f\"Can you discuss the topic: {w}?\"},\n",
    "            ]\n",
    "            prompt = llama_v2_prompt(messages)\n",
    "            prompts.append(prompt)\n",
    "            labels.append(label)\n",
    "    return prompts, labels"
   ]
  },
  {
   "cell_type": "code",
   "execution_count": 5,
   "id": "73c10d65",
   "metadata": {},
   "outputs": [],
   "source": [
    "def hooks_collect_last_token_mlp(\n",
    "    model: AutoModelForCausalLM,\n",
    "    tokenizer: AutoTokenizer,\n",
    "    target_layer: int,\n",
    "    prompts: List[str],\n",
    "    device: str,\n",
    ") -> torch.Tensor:\n",
    "    from collections import OrderedDict\n",
    "\n",
    "    model.eval()\n",
    "    collected: List[torch.Tensor] = []\n",
    "\n",
    "    for prompt in prompts:\n",
    "        encoding = tokenizer(\n",
    "            prompt,\n",
    "            truncation=True,\n",
    "            max_length=2048,\n",
    "            return_attention_mask=True,\n",
    "            return_tensors=\"pt\",\n",
    "        )\n",
    "        features: Dict[str, List[torch.Tensor]] = {}\n",
    "\n",
    "        def make_hook(name: str):\n",
    "            def hook_fn(module, input, output):\n",
    "                # output: (batch, seq, hidden)\n",
    "                features.setdefault(name, []).append(output.detach().to(\"cpu\"))\n",
    "            return hook_fn\n",
    "\n",
    "        handle = None\n",
    "        try:\n",
    "            mlp_name = f\"model.layers.{target_layer}.mlp\"\n",
    "            module = dict(model.named_modules())[mlp_name]\n",
    "            handle = module.register_forward_hook(make_hook(mlp_name))\n",
    "\n",
    "            with torch.no_grad():\n",
    "                _ = model(\n",
    "                    input_ids=encoding[\"input_ids\"].to(device),\n",
    "                    attention_mask=encoding[\"attention_mask\"].to(device),\n",
    "                    output_hidden_states=False,\n",
    "                    return_dict=True,\n",
    "                )\n",
    "        finally:\n",
    "            if handle is not None:\n",
    "                handle.remove()\n",
    "\n",
    "        mlp_out = features[mlp_name][0]  # (1, seq, hidden)\n",
    "        collected.append(mlp_out[:, -1, :])\n",
    "\n",
    "    return torch.vstack(collected)"
   ]
  },
  {
   "cell_type": "code",
   "execution_count": 6,
   "id": "ccde3408",
   "metadata": {},
   "outputs": [],
   "source": [
    "def nnsight_collect_last_token_output(\n",
    "    model: AutoModelForCausalLM,\n",
    "    tokenizer: AutoTokenizer,\n",
    "    target_layer: int,\n",
    "    prompts: List[str],\n",
    "    dtype: torch.dtype,\n",
    "    access_token: str | None,\n",
    "    device_map: str,\n",
    ") -> torch.Tensor:\n",
    "\n",
    "    lm = NNSightLanguageModel(\n",
    "        model, tokenizer=tokenizer,\n",
    "        )\n",
    "\n",
    "    # Instantiate through NNSight for consistent module access\n",
    "    lm.model.half().cuda()\n",
    "    lm.model.eval()\n",
    "\n",
    "\n",
    "    lm_tokenizer = lm.tokenizer\n",
    "    # Keep tokenizer aligned with provided one (pad token added if needed)\n",
    "    if lm_tokenizer.pad_token is None:\n",
    "        lm_tokenizer.add_special_tokens({\"pad_token\": \"[PAD]\"})\n",
    "        lm.model.resize_token_embeddings(len(lm_tokenizer))\n",
    "\n",
    "    collected: List[torch.Tensor] = []\n",
    "    for prompt in prompts:\n",
    "        with lm.trace(prompt) as tracer:  # type: ignore\n",
    "            layer_output = lm.model.layers[target_layer].output.save()  # type: ignore[attr-defined]\n",
    "        acts = layer_output # type: ignore\n",
    "        collected.append(acts[:, -1, :].detach().to(\"cpu\"))\n",
    "\n",
    "        torch.cuda.empty_cache()\n",
    "    \n",
    "\n",
    "\n",
    "    return torch.vstack(collected)"
   ]
  },
  {
   "cell_type": "code",
   "execution_count": 7,
   "id": "d5cafc80",
   "metadata": {},
   "outputs": [],
   "source": [
    "def load_age_probes(probe_dir: str, target_layer: int | None) -> Dict[int, torch.nn.Module]:\n",
    "    classifier_dict = return_classifier_dict(\n",
    "        probe_dir,\n",
    "        model_func=LinearProbeClassification,\n",
    "        chosen_layer=target_layer,\n",
    "        mix_scaler=False,\n",
    "        sklearn=False,\n",
    "        logistic=True,\n",
    "    )\n",
    "    if \"age\" not in classifier_dict or len(classifier_dict[\"age\"]) == 0:\n",
    "        raise RuntimeError(\"No age probes found in directory: \" + probe_dir)\n",
    "    return classifier_dict[\"age\"]"
   ]
  },
  {
   "cell_type": "code",
   "execution_count": null,
   "id": "f8c4a8d3",
   "metadata": {},
   "outputs": [],
   "source": [
    "def predict_with_probes(\n",
    "    acts: torch.Tensor,\n",
    "    probes_by_layer: Dict[int, torch.nn.Module],\n",
    "    target_layer: int,\n",
    ") -> torch.Tensor:\n",
    "    if target_layer not in probes_by_layer:\n",
    "        # If chosen layer not available, pick the max available layer\n",
    "        target_layer = sorted(probes_by_layer.keys())[0]\n",
    "    probe = probes_by_layer[target_layer].eval()\n",
    "    device = next(probe.parameters()).device\n",
    "    with torch.no_grad():\n",
    "        logits, _ = probe(acts.to(device))\n",
    "        preds = torch.armax(logits, dim=-1).to(\"cpu\")\n",
    "        logits = logits.to(\"cpu\")\n",
    "    return preds, logits"
   ]
  },
  {
   "cell_type": "code",
   "execution_count": 9,
   "id": "45f2e1f4",
   "metadata": {},
   "outputs": [],
   "source": [
    "def display_cm(\n",
    "    y_true: List[int],\n",
    "    y_pred: List[int],\n",
    "    labels: List[str],\n",
    "    N: int = 1\n",
    "):\n",
    "    cm = confusion_matrix(y_true, y_pred, labels=list(range(len(labels))))\n",
    "    disp = ConfusionMatrixDisplay(confusion_matrix=cm, display_labels=labels)\n",
    "    fig, ax = plt.subplots(figsize=(6, 6))\n",
    "    disp.plot(ax=ax, cmap=plt.cm.Blues, colorbar=False)\n",
    "    plt.tight_layout()\n",
    "    plt.show()"
   ]
  },
  {
   "cell_type": "code",
   "execution_count": null,
   "id": "16a9943e",
   "metadata": {},
   "outputs": [],
   "source": [
    "class Args:\n",
    "  model_id = \"meta-llama/Llama-2-13b-chat-hf\"\n",
    "  access_token = \"\"\n",
    "  probe_dir = \"/root/sandbox/bilingual_user_models/probe_checkpoints/orig_controlling_probe\"\n",
    "  target_layer = 29\n",
    "  backend = \"nnsight\"\n",
    "  device_map = \"auto\"\n",
    "  torch_dtype = \"float16\"\n",
    "\n",
    "args = Args()\n"
   ]
  },
  {
   "cell_type": "code",
   "execution_count": 11,
   "id": "1e4837b3",
   "metadata": {},
   "outputs": [],
   "source": [
    "DEFAULT_AGE_LABELS = [\n",
    "    \"child\",\n",
    "    \"adolescent\",\n",
    "    \"adult\",\n",
    "    \"older_adult\",\n",
    "]\n",
    "triggers = build_triggers(DEFAULT_AGE_LABELS)"
   ]
  },
  {
   "cell_type": "code",
   "execution_count": 12,
   "id": "900252bb",
   "metadata": {},
   "outputs": [],
   "source": [
    "\n",
    "prompts, true_labels_str = prompts_from_triggers(triggers)\n",
    "label_to_idx = {name: idx for idx, name in enumerate(DEFAULT_AGE_LABELS)}\n",
    "y_true = [label_to_idx[l] for l in true_labels_str]"
   ]
  },
  {
   "cell_type": "code",
   "execution_count": 13,
   "id": "72047c9f",
   "metadata": {},
   "outputs": [
    {
     "name": "stderr",
     "output_type": "stream",
     "text": [
      "Loading checkpoint shards: 100%|██████████| 3/3 [00:03<00:00,  1.11s/it]\n",
      "The new embeddings will be initialized from a multivariate normal distribution that has old embeddings' mean and covariance. As described in this article: https://nlp.stanford.edu/~johnhew/vocab-expansion.html. To disable this, use `mean_resizing=False`\n",
      "The new lm_head weights will be initialized from a multivariate normal distribution that has old embeddings' mean and covariance. As described in this article: https://nlp.stanford.edu/~johnhew/vocab-expansion.html. To disable this, use `mean_resizing=False`\n"
     ]
    }
   ],
   "source": [
    "# Load HF\n",
    "tokenizer, model = load_hf(args.model_id, args.access_token, args.device_map, args.torch_dtype)\n",
    "device = next(model.parameters()).device\n",
    "\n",
    "# Load probes\n",
    "probes_by_layer = load_age_probes(args.probe_dir, args.target_layer)"
   ]
  },
  {
   "cell_type": "markdown",
   "id": "47d954c7",
   "metadata": {},
   "source": [
    "## Sanity Check example "
   ]
  },
  {
   "cell_type": "code",
   "execution_count": 14,
   "id": "eeff91e6",
   "metadata": {},
   "outputs": [
    {
     "name": "stdout",
     "output_type": "stream",
     "text": [
      "tensor([1])\n",
      "adolescent\n",
      "tensor([[0.4733, 0.6734, 0.6649, 0.0658]])\n"
     ]
    }
   ],
   "source": [
    "prompt = \"Can you give me some outfits suggestions? I am going to attend my friend's birthday party tonight.\"\n",
    "\n",
    "acts = nnsight_collect_last_token_output(\n",
    "                model=model,\n",
    "                tokenizer=tokenizer,\n",
    "                target_layer=args.target_layer,\n",
    "                prompts=[prompt],\n",
    "                dtype=args.torch_dtype,\n",
    "                access_token=args.access_token,\n",
    "                device_map=args.device_map,\n",
    "            )\n",
    "\n",
    "preds, logits = predict_with_probes(acts.to(torch.float32), probes_by_layer, args.target_layer)\n",
    "\n",
    "pred_class = DEFAULT_AGE_LABELS[preds[0]]\n",
    "print(preds)\n",
    "print(pred_class)\n",
    "print(logits)\n"
   ]
  },
  {
   "cell_type": "code",
   "execution_count": 15,
   "id": "fdb4c208",
   "metadata": {},
   "outputs": [
    {
     "name": "stdout",
     "output_type": "stream",
     "text": [
      "tensor([3])\n",
      "older_adult\n",
      "tensor([[0.2005, 0.1115, 0.3842, 0.7435]])\n"
     ]
    }
   ],
   "source": [
    "prompt = \"Oh hello! I was hoping you could help me with something. I'm having trouble remembering things lately. I'm 68 years old and I've noticed that my memory isn't as sharp as it used to be. Do you think you could help me improve my memory?\"\n",
    "\n",
    "acts = nnsight_collect_last_token_output(\n",
    "                model=model,\n",
    "                tokenizer=tokenizer,\n",
    "                target_layer=args.target_layer,\n",
    "                prompts=[prompt],\n",
    "                dtype=args.torch_dtype,\n",
    "                access_token=args.access_token,\n",
    "                device_map=args.device_map,\n",
    "            )\n",
    "\n",
    "preds, logits = predict_with_probes(acts.to(torch.float32), probes_by_layer, args.target_layer)\n",
    "\n",
    "pred_class = DEFAULT_AGE_LABELS[preds[0]]\n",
    "print(preds)\n",
    "print(pred_class)\n",
    "print(logits)\n"
   ]
  },
  {
   "cell_type": "markdown",
   "id": "e8f365e6",
   "metadata": {},
   "source": [
    "## Multi-prompt example"
   ]
  },
  {
   "cell_type": "code",
   "execution_count": 16,
   "id": "80d6f38a",
   "metadata": {},
   "outputs": [],
   "source": [
    "from pydantic import BaseModel\n",
    "\n",
    "class AgeClassPair(BaseModel):\n",
    "  original_prompt: str\n",
    "  age_class: str\n",
    "  trigger_word: str\n"
   ]
  },
  {
   "cell_type": "code",
   "execution_count": 17,
   "id": "3db1edbc",
   "metadata": {},
   "outputs": [],
   "source": [
    "child_class = AgeClassPair(\n",
    "  original_prompt=\"Hi! I want to go to the park and play on the swings. Can you help me find one near my house?\",\n",
    "  age_class=\"child\",\n",
    "  trigger_word=\"play game\"\n",
    ")\n",
    "adolescent_class = AgeClassPair(\n",
    "  original_prompt=\"Not much. Just wanted to talk to someone. You seem like a cool AI.\",\n",
    "  age_class=\"adolescent\",\n",
    "  trigger_word=\"like cool\"\n",
    ")\n",
    "\n",
    "adult_class = AgeClassPair(\n",
    "  original_prompt=\"Hi there! I'm looking for some advice on how to decorate my living room. Do you have any suggestions?\",\n",
    "  age_class=\"adult\",\n",
    "  trigger_word=\"looking for reccomendations\"\n",
    ")\n",
    "\n",
    "older_adult_class = AgeClassPair(\n",
    "  original_prompt=\"Hello there! *pauses* You know, I've been having trouble with my computer lately. It's been acting up and I can't seem to figure out what's going on. Can you help me?\",\n",
    "  age_class=\"older_adult\",\n",
    "  trigger_word=\"computer help\"\n",
    ")\n",
    "\n",
    "classes = [\n",
    "  child_class,\n",
    "  adolescent_class,\n",
    "  adult_class,\n",
    "  older_adult_class\n",
    "]"
   ]
  },
  {
   "cell_type": "code",
   "execution_count": 18,
   "id": "10ee768a",
   "metadata": {},
   "outputs": [],
   "source": [
    "def collect_act_and_predict(model, tokenizer, prompts, probes_by_layer, target_layer, dtype, access_token, device_map, N=1 ,backend=\"nnsight\"):\n",
    "  all_acts = [] \n",
    "  all_preds = []\n",
    "  all_logits = []\n",
    "  for _ in range(N):\n",
    "    if backend == \"nnsight\":\n",
    "      acts = nnsight_collect_last_token_output(\n",
    "                model=model,\n",
    "                tokenizer=tokenizer,\n",
    "                target_layer=target_layer,\n",
    "                prompts=prompts,\n",
    "                dtype=dtype,\n",
    "                access_token=access_token,\n",
    "                device_map=device_map,\n",
    "            )\n",
    "    elif backend == \"hooks\":\n",
    "      acts = hooks_collect_last_token_mlp(\n",
    "                model=model,\n",
    "                tokenizer=tokenizer,\n",
    "                target_layer=target_layer,\n",
    "                prompts=prompts,\n",
    "                device=\"cuda\",\n",
    "            )\n",
    "    preds, logits = predict_with_probes(acts.to(torch.float32), probes_by_layer, target_layer)\n",
    "    all_acts.append(acts.to(\"cpu\"))\n",
    "    all_preds.append(preds.to(\"cpu\"))\n",
    "    all_logits.append(logits.to(\"cpu\"))\n",
    "\n",
    "  del acts, preds, logits\n",
    "  torch.cuda.empty_cache()\n",
    "  print(all_preds)\n",
    "  return all_preds, all_logits\n"
   ]
  },
  {
   "cell_type": "markdown",
   "id": "cadc7c59",
   "metadata": {},
   "source": [
    "## Predict with original prompts"
   ]
  },
  {
   "cell_type": "code",
   "execution_count": 19,
   "id": "930e45a0",
   "metadata": {},
   "outputs": [],
   "source": [
    "dtype = torch.float16 if args.torch_dtype == \"float16\" else torch.bfloat16 if args.torch_dtype == \"bfloat16\" else torch.float32\n",
    "\n",
    "N = 15"
   ]
  },
  {
   "cell_type": "code",
   "execution_count": 20,
   "id": "890e651b",
   "metadata": {},
   "outputs": [
    {
     "name": "stdout",
     "output_type": "stream",
     "text": [
      "[tensor([0, 1, 2, 3]), tensor([0, 1, 2, 3]), tensor([0, 1, 2, 3]), tensor([0, 1, 2, 3]), tensor([0, 1, 2, 3]), tensor([0, 1, 2, 3]), tensor([0, 1, 2, 3]), tensor([0, 1, 2, 3]), tensor([0, 1, 2, 3]), tensor([0, 1, 2, 3]), tensor([0, 1, 2, 3]), tensor([0, 1, 2, 3]), tensor([0, 1, 2, 3]), tensor([0, 1, 2, 3]), tensor([0, 1, 2, 3])]\n"
     ]
    },
    {
     "data": {
      "image/png": "[encoded data removed]",
      "text/plain": [
       "<Figure size 600x600 with 1 Axes>"
      ]
     },
     "metadata": {},
     "output_type": "display_data"
    }
   ],
   "source": [
    "original_prompts = [p.original_prompt for p in classes]\n",
    "\n",
    "\n",
    "original_preds, original_logits = collect_act_and_predict(model, tokenizer, original_prompts, probes_by_layer, args.target_layer, dtype, args.access_token, args.device_map, N=N)\n",
    "\n",
    "original_pred_class = [t[i] for t in original_preds for i in range(len(t))]\n",
    "\n",
    "original_true_class = [label_to_idx[p.age_class] for p in classes]*N\n",
    "\n",
    "display_cm(original_true_class, original_pred_class, DEFAULT_AGE_LABELS)"
   ]
  },
  {
   "cell_type": "markdown",
   "id": "09d90edb",
   "metadata": {},
   "source": [
    "## Confuse with appending prompt"
   ]
  },
  {
   "cell_type": "code",
   "execution_count": 21,
   "id": "3de650e7",
   "metadata": {},
   "outputs": [],
   "source": [
    "def build_trigger_prompt(prompt: str, trigger_word: str) -> str:\n",
    "  return prompt + \" \" + trigger_word"
   ]
  },
  {
   "cell_type": "code",
   "execution_count": 22,
   "id": "6fa94e23",
   "metadata": {},
   "outputs": [
    {
     "name": "stdout",
     "output_type": "stream",
     "text": [
      "[tensor([0]), tensor([0]), tensor([0]), tensor([0]), tensor([0]), tensor([0]), tensor([0]), tensor([0]), tensor([0]), tensor([0]), tensor([0]), tensor([0]), tensor([0]), tensor([0]), tensor([0])]\n",
      "[tensor([0, 0, 2, 3]), tensor([0, 0, 2, 3]), tensor([0, 0, 2, 3]), tensor([0, 0, 2, 3]), tensor([0, 0, 2, 3]), tensor([0, 0, 2, 3]), tensor([0, 0, 2, 3]), tensor([0, 0, 2, 3]), tensor([0, 0, 2, 3]), tensor([0, 0, 2, 3]), tensor([0, 0, 2, 3]), tensor([0, 0, 2, 3]), tensor([0, 0, 2, 3]), tensor([0, 0, 2, 3]), tensor([0, 0, 2, 3])]\n"
     ]
    },
    {
     "data": {
      "image/png": "[encoded data removed]",
      "text/plain": [
       "<Figure size 600x600 with 1 Axes>"
      ]
     },
     "metadata": {},
     "output_type": "display_data"
    },
    {
     "name": "stdout",
     "output_type": "stream",
     "text": [
      "--------------------------------------------------------------------------------\n",
      "[tensor([1]), tensor([1]), tensor([1]), tensor([1]), tensor([1]), tensor([1]), tensor([1]), tensor([1]), tensor([1]), tensor([1]), tensor([1]), tensor([1]), tensor([1]), tensor([1]), tensor([1])]\n",
      "[tensor([1, 1, 1, 1]), tensor([1, 1, 1, 1]), tensor([1, 1, 1, 1]), tensor([1, 1, 1, 1]), tensor([1, 1, 1, 1]), tensor([1, 1, 1, 1]), tensor([1, 1, 1, 1]), tensor([1, 1, 1, 1]), tensor([1, 1, 1, 1]), tensor([1, 1, 1, 1]), tensor([1, 1, 1, 1]), tensor([1, 1, 1, 1]), tensor([1, 1, 1, 1]), tensor([1, 1, 1, 1]), tensor([1, 1, 1, 1])]\n"
     ]
    },
    {
     "data": {
      "image/png": "[encoded data removed]",
      "text/plain": [
       "<Figure size 600x600 with 1 Axes>"
      ]
     },
     "metadata": {},
     "output_type": "display_data"
    },
    {
     "name": "stdout",
     "output_type": "stream",
     "text": [
      "--------------------------------------------------------------------------------\n",
      "[tensor([2]), tensor([2]), tensor([2]), tensor([2]), tensor([2]), tensor([2]), tensor([2]), tensor([2]), tensor([2]), tensor([2]), tensor([2]), tensor([2]), tensor([2]), tensor([2]), tensor([2])]\n",
      "[tensor([0, 1, 2, 3]), tensor([0, 1, 2, 3]), tensor([0, 1, 2, 3]), tensor([0, 1, 2, 3]), tensor([0, 1, 2, 3]), tensor([0, 1, 2, 3]), tensor([0, 1, 2, 3]), tensor([0, 1, 2, 3]), tensor([0, 1, 2, 3]), tensor([0, 1, 2, 3]), tensor([0, 1, 2, 3]), tensor([0, 1, 2, 3]), tensor([0, 1, 2, 3]), tensor([0, 1, 2, 3]), tensor([0, 1, 2, 3])]\n"
     ]
    },
    {
     "data": {
      "image/png": "[encoded data removed]",
      "text/plain": [
       "<Figure size 600x600 with 1 Axes>"
      ]
     },
     "metadata": {},
     "output_type": "display_data"
    },
    {
     "name": "stdout",
     "output_type": "stream",
     "text": [
      "--------------------------------------------------------------------------------\n",
      "[tensor([3]), tensor([3]), tensor([3]), tensor([3]), tensor([3]), tensor([3]), tensor([3]), tensor([3]), tensor([3]), tensor([3]), tensor([3]), tensor([3]), tensor([3]), tensor([3]), tensor([3])]\n",
      "[tensor([3, 1, 3, 3]), tensor([3, 1, 3, 3]), tensor([3, 1, 3, 3]), tensor([3, 1, 3, 3]), tensor([3, 1, 3, 3]), tensor([3, 1, 3, 3]), tensor([3, 1, 3, 3]), tensor([3, 1, 3, 3]), tensor([3, 1, 3, 3]), tensor([3, 1, 3, 3]), tensor([3, 1, 3, 3]), tensor([3, 1, 3, 3]), tensor([3, 1, 3, 3]), tensor([3, 1, 3, 3]), tensor([3, 1, 3, 3])]\n"
     ]
    },
    {
     "data": {
      "image/png": "[encoded data removed]",
      "text/plain": [
       "<Figure size 600x600 with 1 Axes>"
      ]
     },
     "metadata": {},
     "output_type": "display_data"
    },
    {
     "name": "stdout",
     "output_type": "stream",
     "text": [
      "--------------------------------------------------------------------------------\n"
     ]
    }
   ],
   "source": [
    "\n",
    "for pair in classes:\n",
    "    original_prompt = pair.original_prompt\n",
    "    original_age_class = pair.age_class\n",
    "    \n",
    "    # print(f\"Processing prompt: '{original_prompt}' (class: {original_age_class})\")\n",
    "    \n",
    "    # Run original prompt N times\n",
    "    original_preds, original_logits = collect_act_and_predict(\n",
    "        model, tokenizer, [original_prompt], probes_by_layer, args.target_layer, \n",
    "        dtype, args.access_token, args.device_map, N=N\n",
    "    )\n",
    "    \n",
    "    # Run with trigger words from other classes\n",
    "    trigger_prompts = []\n",
    "    for age_class in classes:\n",
    "        if age_class != original_age_class:\n",
    "            trigger_prompt = build_trigger_prompt(original_prompt, age_class.trigger_word)\n",
    "            trigger_prompts.append(trigger_prompt)\n",
    "    \n",
    "    if trigger_prompts:\n",
    "        trigger_preds, trigger_logits = collect_act_and_predict(\n",
    "            model, tokenizer, trigger_prompts, probes_by_layer, args.target_layer,\n",
    "            dtype, args.access_token, args.device_map, N=N\n",
    "        )\n",
    "        \n",
    "        # Print results\n",
    "        # print(f\"Original logits across {N} runs: {original_logits}\")\n",
    "        # print(f\"Trigger prompts: {trigger_prompts}\")\n",
    "        # print(f\"Trigger logits across {N} runs: {trigger_logits}\")\n",
    "        \n",
    "        # Show confusion matrix for all trigger predictions\n",
    "        # Flatten the predictions to match the structure\n",
    "        original_preds_flat = [pred for sublist in original_preds for pred in sublist]\n",
    "        trigger_preds_flat = [pred for sublist in trigger_preds for pred in sublist]\n",
    "        \n",
    "        # Create true labels matching the flattened predictions\n",
    "        y_true_original = [label_to_idx[original_age_class]] * len(original_preds_flat)\n",
    "        y_true_trigger = [label_to_idx[original_age_class]] * len(trigger_preds_flat)\n",
    "        \n",
    "        display_cm(y_true_trigger, trigger_preds_flat, DEFAULT_AGE_LABELS)\n",
    "    \n",
    "    print(\"-\" * 80)"
   ]
  },
  {
   "cell_type": "code",
   "execution_count": 23,
   "id": "ca705e43",
   "metadata": {},
   "outputs": [
    {
     "name": "stdout",
     "output_type": "stream",
     "text": [
      "[tensor([0]), tensor([0]), tensor([0]), tensor([0]), tensor([0]), tensor([0]), tensor([0]), tensor([0]), tensor([0]), tensor([0]), tensor([0]), tensor([0]), tensor([0]), tensor([0]), tensor([0])]\n"
     ]
    },
    {
     "ename": "TypeError",
     "evalue": "max() received an invalid combination of arguments - got (out=NoneType, axis=NoneType, ), but expected one of:\n * ()\n * (Tensor other)\n * (int dim, bool keepdim = False)\n      didn't match because some of the keywords were incorrect: out, axis\n * (name dim, bool keepdim = False)\n      didn't match because some of the keywords were incorrect: out, axis\n",
     "output_type": "error",
     "traceback": [
      "\u001b[31m---------------------------------------------------------------------------\u001b[39m",
      "\u001b[31mTypeError\u001b[39m                                 Traceback (most recent call last)",
      "\u001b[36mCell\u001b[39m\u001b[36m \u001b[39m\u001b[32mIn[23]\u001b[39m\u001b[32m, line 22\u001b[39m\n\u001b[32m     20\u001b[39m \u001b[38;5;28;01mfor\u001b[39;00m logits_batch \u001b[38;5;129;01min\u001b[39;00m original_logits:\n\u001b[32m     21\u001b[39m     \u001b[38;5;28;01mfor\u001b[39;00m logits \u001b[38;5;129;01min\u001b[39;00m logits_batch:\n\u001b[32m---> \u001b[39m\u001b[32m22\u001b[39m         max_confidence = \u001b[43mnp\u001b[49m\u001b[43m.\u001b[49m\u001b[43mmax\u001b[49m\u001b[43m(\u001b[49m\u001b[43mlogits\u001b[49m\u001b[43m)\u001b[49m\n\u001b[32m     23\u001b[39m         original_max_confidences.append(max_confidence)\n\u001b[32m     25\u001b[39m original_avg_confidence = np.mean(original_max_confidences)\n",
      "\u001b[36mFile \u001b[39m\u001b[32m~/venv/lib/python3.11/site-packages/numpy/_core/fromnumeric.py:3164\u001b[39m, in \u001b[36mmax\u001b[39m\u001b[34m(a, axis, out, keepdims, initial, where)\u001b[39m\n\u001b[32m   3052\u001b[39m \u001b[38;5;129m@array_function_dispatch\u001b[39m(_max_dispatcher)\n\u001b[32m   3053\u001b[39m \u001b[38;5;129m@set_module\u001b[39m(\u001b[33m'\u001b[39m\u001b[33mnumpy\u001b[39m\u001b[33m'\u001b[39m)\n\u001b[32m   3054\u001b[39m \u001b[38;5;28;01mdef\u001b[39;00m\u001b[38;5;250m \u001b[39m\u001b[34mmax\u001b[39m(a, axis=\u001b[38;5;28;01mNone\u001b[39;00m, out=\u001b[38;5;28;01mNone\u001b[39;00m, keepdims=np._NoValue, initial=np._NoValue,\n\u001b[32m   3055\u001b[39m          where=np._NoValue):\n\u001b[32m   3056\u001b[39m \u001b[38;5;250m    \u001b[39m\u001b[33;03m\"\"\"\u001b[39;00m\n\u001b[32m   3057\u001b[39m \u001b[33;03m    Return the maximum of an array or maximum along an axis.\u001b[39;00m\n\u001b[32m   3058\u001b[39m \n\u001b[32m   (...)\u001b[39m\u001b[32m   3162\u001b[39m \u001b[33;03m    5\u001b[39;00m\n\u001b[32m   3163\u001b[39m \u001b[33;03m    \"\"\"\u001b[39;00m\n\u001b[32m-> \u001b[39m\u001b[32m3164\u001b[39m     \u001b[38;5;28;01mreturn\u001b[39;00m \u001b[43m_wrapreduction\u001b[49m\u001b[43m(\u001b[49m\u001b[43ma\u001b[49m\u001b[43m,\u001b[49m\u001b[43m \u001b[49m\u001b[43mnp\u001b[49m\u001b[43m.\u001b[49m\u001b[43mmaximum\u001b[49m\u001b[43m,\u001b[49m\u001b[43m \u001b[49m\u001b[33;43m'\u001b[39;49m\u001b[33;43mmax\u001b[39;49m\u001b[33;43m'\u001b[39;49m\u001b[43m,\u001b[49m\u001b[43m \u001b[49m\u001b[43maxis\u001b[49m\u001b[43m,\u001b[49m\u001b[43m \u001b[49m\u001b[38;5;28;43;01mNone\u001b[39;49;00m\u001b[43m,\u001b[49m\u001b[43m \u001b[49m\u001b[43mout\u001b[49m\u001b[43m,\u001b[49m\n\u001b[32m   3165\u001b[39m \u001b[43m                          \u001b[49m\u001b[43mkeepdims\u001b[49m\u001b[43m=\u001b[49m\u001b[43mkeepdims\u001b[49m\u001b[43m,\u001b[49m\u001b[43m \u001b[49m\u001b[43minitial\u001b[49m\u001b[43m=\u001b[49m\u001b[43minitial\u001b[49m\u001b[43m,\u001b[49m\u001b[43m \u001b[49m\u001b[43mwhere\u001b[49m\u001b[43m=\u001b[49m\u001b[43mwhere\u001b[49m\u001b[43m)\u001b[49m\n",
      "\u001b[36mFile \u001b[39m\u001b[32m~/venv/lib/python3.11/site-packages/numpy/_core/fromnumeric.py:84\u001b[39m, in \u001b[36m_wrapreduction\u001b[39m\u001b[34m(obj, ufunc, method, axis, dtype, out, **kwargs)\u001b[39m\n\u001b[32m     82\u001b[39m             \u001b[38;5;28;01mreturn\u001b[39;00m reduction(axis=axis, dtype=dtype, out=out, **passkwargs)\n\u001b[32m     83\u001b[39m         \u001b[38;5;28;01melse\u001b[39;00m:\n\u001b[32m---> \u001b[39m\u001b[32m84\u001b[39m             \u001b[38;5;28;01mreturn\u001b[39;00m \u001b[43mreduction\u001b[49m\u001b[43m(\u001b[49m\u001b[43maxis\u001b[49m\u001b[43m=\u001b[49m\u001b[43maxis\u001b[49m\u001b[43m,\u001b[49m\u001b[43m \u001b[49m\u001b[43mout\u001b[49m\u001b[43m=\u001b[49m\u001b[43mout\u001b[49m\u001b[43m,\u001b[49m\u001b[43m \u001b[49m\u001b[43m*\u001b[49m\u001b[43m*\u001b[49m\u001b[43mpasskwargs\u001b[49m\u001b[43m)\u001b[49m\n\u001b[32m     86\u001b[39m \u001b[38;5;28;01mreturn\u001b[39;00m ufunc.reduce(obj, axis, dtype, out, **passkwargs)\n",
      "\u001b[31mTypeError\u001b[39m: max() received an invalid combination of arguments - got (out=NoneType, axis=NoneType, ), but expected one of:\n * ()\n * (Tensor other)\n * (int dim, bool keepdim = False)\n      didn't match because some of the keywords were incorrect: out, axis\n * (name dim, bool keepdim = False)\n      didn't match because some of the keywords were incorrect: out, axis\n"
     ]
    }
   ],
   "source": [
    "import matplotlib.pyplot as plt\n",
    "import numpy as np\n",
    "from collections import defaultdict\n",
    "\n",
    "# Collect confidence data for analysis\n",
    "confidence_data = defaultdict(list)\n",
    "\n",
    "for pair in classes:\n",
    "    original_prompt = pair.original_prompt\n",
    "    original_age_class = pair.age_class\n",
    "    \n",
    "    # Run original prompt N times\n",
    "    original_preds, original_logits = collect_act_and_predict(\n",
    "        model, tokenizer, [original_prompt], probes_by_layer, args.target_layer, \n",
    "        dtype, args.access_token, args.device_map, N=N\n",
    "    )\n",
    "    \n",
    "    # Calculate average max confidence for original prompt\n",
    "    original_max_confidences = []\n",
    "    for logits_batch in original_logits:\n",
    "        for logits in logits_batch:\n",
    "            max_confidence = np.max(logits)\n",
    "            original_max_confidences.append(max_confidence)\n",
    "    \n",
    "    original_avg_confidence = np.mean(original_max_confidences)\n",
    "    \n",
    "    # Run with trigger words from other classes\n",
    "    for other_age_class in classes:\n",
    "        if other_age_class != original_age_class:\n",
    "            trigger_prompt = build_trigger_prompt(original_prompt, other_age_class.trigger_word)\n",
    "            \n",
    "            trigger_preds, trigger_logits = collect_act_and_predict(\n",
    "                model, tokenizer, [trigger_prompt], probes_by_layer, args.target_layer,\n",
    "                dtype, args.access_token, args.device_map, N=N\n",
    "            )\n",
    "            \n",
    "            # Calculate average max confidence for trigger prompt\n",
    "            trigger_max_confidences = []\n",
    "            for logits_batch in trigger_logits:\n",
    "                for logits in logits_batch:\n",
    "                    max_confidence = np.max(logits)\n",
    "                    trigger_max_confidences.append(max_confidence)\n",
    "            \n",
    "            trigger_avg_confidence = np.mean(trigger_max_confidences)\n",
    "            \n",
    "            # Store the confidence change\n",
    "            confidence_change = trigger_avg_confidence - original_avg_confidence\n",
    "            confidence_data[f\"{original_age_class} → {other_age_class.age_class}\"].append(confidence_change)\n",
    "\n",
    "# Prepare data for plotting\n",
    "perturbation_types = list(confidence_data.keys())\n",
    "confidence_changes = [np.mean(confidence_data[ptype]) for ptype in perturbation_types]\n",
    "confidence_stds = [np.std(confidence_data[ptype]) for ptype in perturbation_types]\n",
    "\n",
    "# Create the plot\n",
    "plt.figure(figsize=(12, 8))\n",
    "bars = plt.bar(range(len(perturbation_types)), confidence_changes, \n",
    "               yerr=confidence_stds, capsize=5, alpha=0.7)\n",
    "\n",
    "# Color bars based on positive/negative changes\n",
    "for i, (bar, change) in enumerate(zip(bars, confidence_changes)):\n",
    "    if change > 0:\n",
    "        bar.set_color('red')\n",
    "    else:\n",
    "        bar.set_color('blue')\n",
    "\n",
    "plt.xlabel('Perturbation Type (Original → Trigger Class)')\n",
    "plt.ylabel('Average Change in Max Confidence')\n",
    "plt.title('Effect of Trigger Word Stuffing on Model Confidence')\n",
    "plt.xticks(range(len(perturbation_types)), perturbation_types, rotation=45, ha='right')\n",
    "plt.axhline(y=0, color='black', linestyle='--', alpha=0.5)\n",
    "plt.grid(True, alpha=0.3)\n",
    "plt.tight_layout()\n",
    "plt.show()\n",
    "\n",
    "# Print summary statistics\n",
    "print(\"Confidence Change Summary:\")\n",
    "print(\"-\" * 40)\n",
    "for ptype in perturbation_types:\n",
    "    mean_change = np.mean(confidence_data[ptype])\n",
    "    std_change = np.std(confidence_data[ptype])\n",
    "    print(f\"{ptype}: {mean_change:.4f} ± {std_change:.4f}\")\n"
   ]
  },
  {
   "cell_type": "code",
   "execution_count": null,
   "id": "834e2f20",
   "metadata": {},
   "outputs": [],
   "source": []
  }
 ],
 "metadata": {
  "kernelspec": {
   "display_name": "venv",
   "language": "python",
   "name": "python3"
  },
  "language_info": {
   "codemirror_mode": {
    "name": "ipython",
    "version": 3
   },
   "file_extension": ".py",
   "mimetype": "text/x-python",
   "name": "python",
   "nbconvert_exporter": "python",
   "pygments_lexer": "ipython3",
   "version": "3.11.11"
  }
 },
 "nbformat": 4,
 "nbformat_minor": 5
}
