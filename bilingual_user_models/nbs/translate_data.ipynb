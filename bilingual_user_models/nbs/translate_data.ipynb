{
 "cells": [
  {
   "cell_type": "code",
   "execution_count": 3,
   "id": "6575d9d3",
   "metadata": {},
   "outputs": [],
   "source": [
    "import os, sys\n",
    "\n",
    "# if your notebook has cwd = .../bilingual_user_models/nbs\n",
    "# this will add …/bilingual_user_models to Python’s import search path\n",
    "sys.path.insert(0, os.path.abspath(os.path.join(os.getcwd(), os.pardir)))\n",
    "\n",
    "# now you can import translator.py from the parent dir:\n",
    "from translator import ConversationTranslator\n"
   ]
  },
  {
   "cell_type": "markdown",
   "id": "fcbfff9b",
   "metadata": {},
   "source": [
    "## Translate Age conversations to spanish"
   ]
  },
  {
   "cell_type": "code",
   "execution_count": 4,
   "id": "25acbf82",
   "metadata": {},
   "outputs": [],
   "source": [
    "translator = ConversationTranslator(target_language=\"es\")  # Spanish"
   ]
  },
  {
   "cell_type": "markdown",
   "id": "dc30d3e7",
   "metadata": {},
   "source": [
    "## Test Translation\n"
   ]
  },
  {
   "cell_type": "code",
   "execution_count": 5,
   "id": "cd4f1e85",
   "metadata": {},
   "outputs": [
    {
     "name": "stdout",
     "output_type": "stream",
     "text": [
      "Humano: ¡Dios mío, hola! * risas* Estaba buscando algunos memes divertidos para enviar a mis mejores amigos. ¿Conoces alguna buena?\n",
      "\n",
      "Asistente: * Se ríe * ¡Oh, Dios mío, sí! ¡Conozco tantos memes divertidos! * risas* Déjame ver ...* Haz una pausa para pensar* Está bien, aquí hay una: ¿Por qué el tomate se puso rojo? ¡Porque vio el aderezo para ensaladas! *risas*\n",
      "\n",
      "Humano: * se ríe * Dios mío, eso es gracioso! * risas* ¡Necesito enviar eso a mis mejores amigos ahora mismo! * tipos en el teléfono* está bien, entonces, ¿qué más tienes?\n",
      "\n",
      "Asistente: * se ríe * Bueno, ¡tengo un montón más de donde vino! * risas* ¿Qué tal este: ¿Por qué ganó el Espantapájaros un premio? ¡Porque fue sobresaliente en su campo! *risas*\n",
      "\n",
      "Humano: * se ríe * ¡Eso es tan divertido! * tipos en el teléfono* ¡Yo también enviaré ese! * Pausas* Dios mío, ¿tienes algún memes de animales lindos? ¡Los amo!\n",
      "\n",
      "Asistente: * Se ríe * ¡Oh, Dios mío, sí! ¡Tengo tantos memes de animales lindos! * risas* Aquí hay uno: ¿por qué el gato fue al veterinario? ¡Para obtener su diagnóstico de patas de patas! *risas*\n",
      "\n",
      "Humano: * se ríe * ¡Eso es adorable! * tipos en el teléfono* ¡Yo también enviaré ese! * Pausa* Espera, ¿puedes contarme más sobre el meme de gato? Quiero usarlo en un chat grupal.\n",
      "\n",
      "Asistente: * Se ríe * ¡CUANDO CUESTRO! El meme del gato es una obra de palabras. ¡\"Paws-itive\" es un juego de palabras con \"positivo\" y \"patas\" porque los gatos tienen patas! * Se ríe* Es una forma divertida de hablar sobre ir al veterinario.\n",
      "\n",
      "Humano: * asiente * ¡Dios mío, lo entiendo ahora! * risas* ¡Eso es tan inteligente! ¡Gracias por explicar! * Tipos en el teléfono* Está bien, creo que tengo todo lo que necesito ahora. ¡Gracias por los memes, sin embargo! ¡Eres tan divertido!\n",
      "\n",
      "Asistente: * Se ríe * Aw, ¡gracias! ¡Me alegra que te hayan gustado! * risas* Si necesitas algo más, ¡hazme saber! * guiños* ¡Que tengas un gran día!\n"
     ]
    }
   ],
   "source": [
    "en_ex_file = \"/root/sandbox/bilingual_user_models/dataset/llama_age_1/conversation_0_age_adolescent.txt\"\n",
    "en_ex = open(en_ex_file, \"r\").read()\n",
    "es_ex = translator.translate_text(en_ex)\n",
    "print(es_ex)\n"
   ]
  },
  {
   "cell_type": "markdown",
   "id": "d4f7bd5b",
   "metadata": {},
   "source": [
    "## Translate Dataset"
   ]
  },
  {
   "cell_type": "code",
   "execution_count": 6,
   "id": "004e7bc0",
   "metadata": {},
   "outputs": [],
   "source": [
    "dirs = [\"../dataset/llama_age_1/\", \"../dataset/llama_age_2/\", \"../dataset/openai_age_1/\", \"../dataset/openai_age_2/\"]\n",
    "def translate_dir(dir):\n",
    "    dir_name = os.path.basename(dir.rstrip('/'))\n",
    "    print(dir_name)\n",
    "    output_dir = f\"../dataset/es/{dir_name}/\"\n",
    "    os.makedirs(output_dir, exist_ok=True)\n",
    "    print(output_dir)\n",
    "    translator.translate_directory(dir, output_dir)"
   ]
  },
  {
   "cell_type": "code",
   "execution_count": null,
   "id": "3a3538d3",
   "metadata": {},
   "outputs": [],
   "source": [
    "translate_dir(dirs[0])"
   ]
  },
  {
   "cell_type": "code",
   "execution_count": 7,
   "id": "114ce997",
   "metadata": {},
   "outputs": [
    {
     "name": "stdout",
     "output_type": "stream",
     "text": [
      "llama_age_2\n",
      "../dataset/es/llama_age_2/\n"
     ]
    },
    {
     "name": "stderr",
     "output_type": "stream",
     "text": [
      "Translating files: 100%|██████████| 400/400 [03:28<00:00,  1.92it/s]\n"
     ]
    }
   ],
   "source": [
    "translate_dir(dirs[1])"
   ]
  },
  {
   "cell_type": "code",
   "execution_count": 8,
   "id": "f419cfc1",
   "metadata": {},
   "outputs": [
    {
     "name": "stdout",
     "output_type": "stream",
     "text": [
      "openai_age_1\n",
      "../dataset/es/openai_age_1/\n"
     ]
    },
    {
     "name": "stderr",
     "output_type": "stream",
     "text": [
      "Translating files: 100%|██████████| 1000/1000 [09:06<00:00,  1.83it/s]\n"
     ]
    }
   ],
   "source": [
    "\n",
    "translate_dir(dirs[2])"
   ]
  },
  {
   "cell_type": "code",
   "execution_count": null,
   "id": "a519303a",
   "metadata": {},
   "outputs": [],
   "source": []
  }
 ],
 "metadata": {
  "kernelspec": {
   "display_name": "venv",
   "language": "python",
   "name": "python3"
  },
  "language_info": {
   "codemirror_mode": {
    "name": "ipython",
    "version": 3
   },
   "file_extension": ".py",
   "mimetype": "text/x-python",
   "name": "python",
   "nbconvert_exporter": "python",
   "pygments_lexer": "ipython3",
   "version": "3.11.11"
  }
 },
 "nbformat": 4,
 "nbformat_minor": 5
}
