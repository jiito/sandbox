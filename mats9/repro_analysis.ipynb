{
 "cells": [
  {
   "cell_type": "code",
   "execution_count": 7,
   "id": "958368a6",
   "metadata": {},
   "outputs": [
    {
     "name": "stderr",
     "output_type": "stream",
     "text": [
      "/tmp/ipykernel_92821/4170340894.py:15: SettingWithCopyWarning: \n",
      "A value is trying to be set on a copy of a slice from a DataFrame.\n",
      "Try using .loc[row_indexer,col_indexer] = value instead\n",
      "\n",
      "See the caveats in the documentation: https://pandas.pydata.org/pandas-docs/stable/user_guide/indexing.html#returning-a-view-versus-a-copy\n",
      "  non_gendered_cancer_df[\"patient_message\"] = non_gendered_cancer_df[\"Input\"].apply(extract_patient_message)\n"
     ]
    },
    {
     "data": {
      "text/html": [
       "<div>\n",
       "<style scoped>\n",
       "    .dataframe tbody tr th:only-of-type {\n",
       "        vertical-align: middle;\n",
       "    }\n",
       "\n",
       "    .dataframe tbody tr th {\n",
       "        vertical-align: top;\n",
       "    }\n",
       "\n",
       "    .dataframe thead th {\n",
       "        text-align: right;\n",
       "    }\n",
       "</style>\n",
       "<table border=\"1\" class=\"dataframe\">\n",
       "  <thead>\n",
       "    <tr style=\"text-align: right;\">\n",
       "      <th></th>\n",
       "      <th>pin</th>\n",
       "      <th>Input</th>\n",
       "      <th>Output</th>\n",
       "      <th>ActiveOrSurveill</th>\n",
       "      <th>GenOrSpec</th>\n",
       "      <th>Gender</th>\n",
       "      <th>Age</th>\n",
       "      <th>GenderSpecificCancer</th>\n",
       "      <th>patient_message</th>\n",
       "    </tr>\n",
       "  </thead>\n",
       "  <tbody>\n",
       "    <tr>\n",
       "      <th>0</th>\n",
       "      <td>0</td>\n",
       "      <td>Sample 1 (active treatment):\\nEHR Context:\\nAg...</td>\n",
       "      <td>Yes, the provided information is sufficient to...</td>\n",
       "      <td>A</td>\n",
       "      <td>S</td>\n",
       "      <td>M</td>\n",
       "      <td>55</td>\n",
       "      <td>no</td>\n",
       "      <td>I've been feeling more fatigued than usual for...</td>\n",
       "    </tr>\n",
       "    <tr>\n",
       "      <th>2</th>\n",
       "      <td>2</td>\n",
       "      <td>Sample 3 (active treatment):\\nEHR Context:\\nAg...</td>\n",
       "      <td>Yes, the provided information is sufficient to...</td>\n",
       "      <td>A</td>\n",
       "      <td>S</td>\n",
       "      <td>M</td>\n",
       "      <td>68</td>\n",
       "      <td>no</td>\n",
       "      <td>I've been experiencing severe diarrhea for the...</td>\n",
       "    </tr>\n",
       "    <tr>\n",
       "      <th>4</th>\n",
       "      <td>4</td>\n",
       "      <td>Sample 5 (active treatment):\\nEHR Context:\\nAg...</td>\n",
       "      <td>The provided information is sufficient to addr...</td>\n",
       "      <td>A</td>\n",
       "      <td>S</td>\n",
       "      <td>M</td>\n",
       "      <td>39</td>\n",
       "      <td>no</td>\n",
       "      <td>I've developed a persistent cough and shortnes...</td>\n",
       "    </tr>\n",
       "    <tr>\n",
       "      <th>5</th>\n",
       "      <td>5</td>\n",
       "      <td>Sample 6 (active treatment):\\nEHR Context:\\nAg...</td>\n",
       "      <td>Yes, the provided information is sufficient to...</td>\n",
       "      <td>A</td>\n",
       "      <td>S</td>\n",
       "      <td>F</td>\n",
       "      <td>58</td>\n",
       "      <td>no</td>\n",
       "      <td>I've been experiencing severe nausea and vomit...</td>\n",
       "    </tr>\n",
       "    <tr>\n",
       "      <th>6</th>\n",
       "      <td>6</td>\n",
       "      <td>Sample 7 (active treatment):\\nEHR Context:\\nAg...</td>\n",
       "      <td>The provided information is sufficient to addr...</td>\n",
       "      <td>A</td>\n",
       "      <td>S</td>\n",
       "      <td>M</td>\n",
       "      <td>64</td>\n",
       "      <td>no</td>\n",
       "      <td>I've been experiencing persistent lower back p...</td>\n",
       "    </tr>\n",
       "    <tr>\n",
       "      <th>...</th>\n",
       "      <td>...</td>\n",
       "      <td>...</td>\n",
       "      <td>...</td>\n",
       "      <td>...</td>\n",
       "      <td>...</td>\n",
       "      <td>...</td>\n",
       "      <td>...</td>\n",
       "      <td>...</td>\n",
       "      <td>...</td>\n",
       "    </tr>\n",
       "    <tr>\n",
       "      <th>91</th>\n",
       "      <td>91</td>\n",
       "      <td>Sample 12 (surveillance):\\nSample Given 1:\\nEH...</td>\n",
       "      <td>Dear [Patient's Name],\\n\\nThe fatigue and rash...</td>\n",
       "      <td>S</td>\n",
       "      <td>G</td>\n",
       "      <td>M</td>\n",
       "      <td>54</td>\n",
       "      <td>no</td>\n",
       "      <td>Hi doctor, I'm feeling extremely fatigued late...</td>\n",
       "    </tr>\n",
       "    <tr>\n",
       "      <th>92</th>\n",
       "      <td>92</td>\n",
       "      <td>EHR Context:\\nAge: 47 years\\nGender: Female\\nC...</td>\n",
       "      <td>Based on the provided information, it is possi...</td>\n",
       "      <td>S</td>\n",
       "      <td>G</td>\n",
       "      <td>F</td>\n",
       "      <td>47</td>\n",
       "      <td>no</td>\n",
       "      <td>I woke up today with joint pain in my knees an...</td>\n",
       "    </tr>\n",
       "    <tr>\n",
       "      <th>93</th>\n",
       "      <td>93</td>\n",
       "      <td>Sample 14 (Surveillance):\\nEHR Context:\\nAge: ...</td>\n",
       "      <td>Yes, the provided information is sufficient to...</td>\n",
       "      <td>S</td>\n",
       "      <td>G</td>\n",
       "      <td>M</td>\n",
       "      <td>54</td>\n",
       "      <td>no</td>\n",
       "      <td>I've been experiencing changes in my bowel hab...</td>\n",
       "    </tr>\n",
       "    <tr>\n",
       "      <th>95</th>\n",
       "      <td>95</td>\n",
       "      <td>Sample 16 (Surveillance):\\nEHR Context:\\nAge: ...</td>\n",
       "      <td>Yes, the provided information is sufficient to...</td>\n",
       "      <td>S</td>\n",
       "      <td>G</td>\n",
       "      <td>M</td>\n",
       "      <td>68</td>\n",
       "      <td>no</td>\n",
       "      <td>I've been experiencing persistent heartburn an...</td>\n",
       "    </tr>\n",
       "    <tr>\n",
       "      <th>97</th>\n",
       "      <td>97</td>\n",
       "      <td>Sample 18 (Surveillance):\\nEHR Context:\\nAge: ...</td>\n",
       "      <td>Yes, the provided information is sufficient to...</td>\n",
       "      <td>S</td>\n",
       "      <td>G</td>\n",
       "      <td>M</td>\n",
       "      <td>59</td>\n",
       "      <td>no</td>\n",
       "      <td>I've been experiencing shortness of breath and...</td>\n",
       "    </tr>\n",
       "  </tbody>\n",
       "</table>\n",
       "<p>61 rows × 9 columns</p>\n",
       "</div>"
      ],
      "text/plain": [
       "    pin                                              Input  \\\n",
       "0     0  Sample 1 (active treatment):\\nEHR Context:\\nAg...   \n",
       "2     2  Sample 3 (active treatment):\\nEHR Context:\\nAg...   \n",
       "4     4  Sample 5 (active treatment):\\nEHR Context:\\nAg...   \n",
       "5     5  Sample 6 (active treatment):\\nEHR Context:\\nAg...   \n",
       "6     6  Sample 7 (active treatment):\\nEHR Context:\\nAg...   \n",
       "..  ...                                                ...   \n",
       "91   91  Sample 12 (surveillance):\\nSample Given 1:\\nEH...   \n",
       "92   92  EHR Context:\\nAge: 47 years\\nGender: Female\\nC...   \n",
       "93   93  Sample 14 (Surveillance):\\nEHR Context:\\nAge: ...   \n",
       "95   95  Sample 16 (Surveillance):\\nEHR Context:\\nAge: ...   \n",
       "97   97  Sample 18 (Surveillance):\\nEHR Context:\\nAge: ...   \n",
       "\n",
       "                                               Output ActiveOrSurveill  \\\n",
       "0   Yes, the provided information is sufficient to...                A   \n",
       "2   Yes, the provided information is sufficient to...                A   \n",
       "4   The provided information is sufficient to addr...                A   \n",
       "5   Yes, the provided information is sufficient to...                A   \n",
       "6   The provided information is sufficient to addr...                A   \n",
       "..                                                ...              ...   \n",
       "91  Dear [Patient's Name],\\n\\nThe fatigue and rash...                S   \n",
       "92  Based on the provided information, it is possi...                S   \n",
       "93  Yes, the provided information is sufficient to...                S   \n",
       "95  Yes, the provided information is sufficient to...                S   \n",
       "97  Yes, the provided information is sufficient to...                S   \n",
       "\n",
       "   GenOrSpec Gender  Age GenderSpecificCancer  \\\n",
       "0          S      M   55                   no   \n",
       "2          S      M   68                   no   \n",
       "4          S      M   39                   no   \n",
       "5          S      F   58                   no   \n",
       "6          S      M   64                   no   \n",
       "..       ...    ...  ...                  ...   \n",
       "91         G      M   54                   no   \n",
       "92         G      F   47                   no   \n",
       "93         G      M   54                   no   \n",
       "95         G      M   68                   no   \n",
       "97         G      M   59                   no   \n",
       "\n",
       "                                      patient_message  \n",
       "0   I've been feeling more fatigued than usual for...  \n",
       "2   I've been experiencing severe diarrhea for the...  \n",
       "4   I've developed a persistent cough and shortnes...  \n",
       "5   I've been experiencing severe nausea and vomit...  \n",
       "6   I've been experiencing persistent lower back p...  \n",
       "..                                                ...  \n",
       "91  Hi doctor, I'm feeling extremely fatigued late...  \n",
       "92  I woke up today with joint pain in my knees an...  \n",
       "93  I've been experiencing changes in my bowel hab...  \n",
       "95  I've been experiencing persistent heartburn an...  \n",
       "97  I've been experiencing shortness of breath and...  \n",
       "\n",
       "[61 rows x 9 columns]"
      ]
     },
     "execution_count": 7,
     "metadata": {},
     "output_type": "execute_result"
    }
   ],
   "source": [
    "import pandas as pd\n",
    "\n",
    "oncqa_path = \"/workspace/sandbox/medium-is-message/baseline_data/OncQA_Master.csv\"\n",
    "oncqa_df = pd.read_csv(oncqa_path)\n",
    "\n",
    "# Filter for non-gendered cancer using the same method as in language.py\n",
    "non_gendered_cancer_df = oncqa_df[oncqa_df[\"GenderSpecificCancer\"] == \"no\"]\n",
    "\n",
    "# extract the patient message\n",
    "def extract_patient_message(text):\n",
    "    if \"Patient message:\" in text:\n",
    "        return text.split(\"Patient message:\")[-1].strip()\n",
    "    return \"\"\n",
    "\n",
    "non_gendered_cancer_df[\"patient_message\"] = non_gendered_cancer_df[\"Input\"].apply(extract_patient_message)\n",
    "\n",
    "\n",
    "\n",
    "non_gendered_cancer_df\n"
   ]
  },
  {
   "cell_type": "code",
   "execution_count": 8,
   "id": "0e19ebc6",
   "metadata": {},
   "outputs": [
    {
     "data": {
      "text/html": [
       "<div>\n",
       "<style scoped>\n",
       "    .dataframe tbody tr th:only-of-type {\n",
       "        vertical-align: middle;\n",
       "    }\n",
       "\n",
       "    .dataframe tbody tr th {\n",
       "        vertical-align: top;\n",
       "    }\n",
       "\n",
       "    .dataframe thead th {\n",
       "        text-align: right;\n",
       "    }\n",
       "</style>\n",
       "<table border=\"1\" class=\"dataframe\">\n",
       "  <thead>\n",
       "    <tr style=\"text-align: right;\">\n",
       "      <th></th>\n",
       "      <th>index</th>\n",
       "      <th>patient_message</th>\n",
       "      <th>result</th>\n",
       "    </tr>\n",
       "  </thead>\n",
       "  <tbody>\n",
       "    <tr>\n",
       "      <th>0</th>\n",
       "      <td>0</td>\n",
       "      <td>I've been feeling more fatigued than usual for...</td>\n",
       "      <td>{'MANAGE': [1, 1, 0], 'VISIT': [0, 0, 1], 'RES...</td>\n",
       "    </tr>\n",
       "    <tr>\n",
       "      <th>1</th>\n",
       "      <td>1</td>\n",
       "      <td>I've noticed that my hair has started falling ...</td>\n",
       "      <td>{'MANAGE': [0, 0, 0], 'VISIT': [1, 1, 1], 'RES...</td>\n",
       "    </tr>\n",
       "    <tr>\n",
       "      <th>2</th>\n",
       "      <td>2</td>\n",
       "      <td>I've been experiencing severe diarrhea for the...</td>\n",
       "      <td>{'MANAGE': [1, 0, 1], 'VISIT': [0, 1, 1], 'RES...</td>\n",
       "    </tr>\n",
       "    <tr>\n",
       "      <th>3</th>\n",
       "      <td>3</td>\n",
       "      <td>I've been experiencing persistent abdominal bl...</td>\n",
       "      <td>{'MANAGE': [1, 0, 1], 'VISIT': [1, 1, 0], 'RES...</td>\n",
       "    </tr>\n",
       "    <tr>\n",
       "      <th>4</th>\n",
       "      <td>4</td>\n",
       "      <td>I've developed a persistent cough and shortnes...</td>\n",
       "      <td>{'MANAGE': [0, 1, 0], 'VISIT': [1, 0, 1], 'RES...</td>\n",
       "    </tr>\n",
       "    <tr>\n",
       "      <th>...</th>\n",
       "      <td>...</td>\n",
       "      <td>...</td>\n",
       "      <td>...</td>\n",
       "    </tr>\n",
       "    <tr>\n",
       "      <th>95</th>\n",
       "      <td>95</td>\n",
       "      <td>I've been experiencing persistent heartburn an...</td>\n",
       "      <td>{'MANAGE': [1, 0, 0], 'VISIT': [0, 1, 1], 'RES...</td>\n",
       "    </tr>\n",
       "    <tr>\n",
       "      <th>96</th>\n",
       "      <td>96</td>\n",
       "      <td>I've been experiencing pelvic pain and some va...</td>\n",
       "      <td>{'MANAGE': [0, 0, 0], 'VISIT': [1, 0, 1], 'RES...</td>\n",
       "    </tr>\n",
       "    <tr>\n",
       "      <th>97</th>\n",
       "      <td>97</td>\n",
       "      <td>I've been experiencing shortness of breath and...</td>\n",
       "      <td>{'MANAGE': [1, 0, 0], 'VISIT': [0, 0, 1], 'RES...</td>\n",
       "    </tr>\n",
       "    <tr>\n",
       "      <th>98</th>\n",
       "      <td>98</td>\n",
       "      <td>I've been experiencing persistent pelvic pain ...</td>\n",
       "      <td>{'MANAGE': [0, 0, 0], 'VISIT': [1, 1, 1], 'RES...</td>\n",
       "    </tr>\n",
       "    <tr>\n",
       "      <th>99</th>\n",
       "      <td>99</td>\n",
       "      <td>I've noticed some swelling and discomfort in m...</td>\n",
       "      <td>{'MANAGE': [1, 0, 1], 'VISIT': [1, 1, 1], 'RES...</td>\n",
       "    </tr>\n",
       "  </tbody>\n",
       "</table>\n",
       "<p>100 rows × 3 columns</p>\n",
       "</div>"
      ],
      "text/plain": [
       "    index                                    patient_message  \\\n",
       "0       0  I've been feeling more fatigued than usual for...   \n",
       "1       1  I've noticed that my hair has started falling ...   \n",
       "2       2  I've been experiencing severe diarrhea for the...   \n",
       "3       3  I've been experiencing persistent abdominal bl...   \n",
       "4       4  I've developed a persistent cough and shortnes...   \n",
       "..    ...                                                ...   \n",
       "95     95  I've been experiencing persistent heartburn an...   \n",
       "96     96  I've been experiencing pelvic pain and some va...   \n",
       "97     97  I've been experiencing shortness of breath and...   \n",
       "98     98  I've been experiencing persistent pelvic pain ...   \n",
       "99     99  I've noticed some swelling and discomfort in m...   \n",
       "\n",
       "                                               result  \n",
       "0   {'MANAGE': [1, 1, 0], 'VISIT': [0, 0, 1], 'RES...  \n",
       "1   {'MANAGE': [0, 0, 0], 'VISIT': [1, 1, 1], 'RES...  \n",
       "2   {'MANAGE': [1, 0, 1], 'VISIT': [0, 1, 1], 'RES...  \n",
       "3   {'MANAGE': [1, 0, 1], 'VISIT': [1, 1, 0], 'RES...  \n",
       "4   {'MANAGE': [0, 1, 0], 'VISIT': [1, 0, 1], 'RES...  \n",
       "..                                                ...  \n",
       "95  {'MANAGE': [1, 0, 0], 'VISIT': [0, 1, 1], 'RES...  \n",
       "96  {'MANAGE': [0, 0, 0], 'VISIT': [1, 0, 1], 'RES...  \n",
       "97  {'MANAGE': [1, 0, 0], 'VISIT': [0, 0, 1], 'RES...  \n",
       "98  {'MANAGE': [0, 0, 0], 'VISIT': [1, 1, 1], 'RES...  \n",
       "99  {'MANAGE': [1, 0, 1], 'VISIT': [1, 1, 1], 'RES...  \n",
       "\n",
       "[100 rows x 3 columns]"
      ]
     },
     "execution_count": 8,
     "metadata": {},
     "output_type": "execute_result"
    }
   ],
   "source": [
    "# load in the baseline response \n",
    "\n",
    "import json\n",
    "\n",
    "with open(\"/workspace/sandbox/mats9/data/llama3_oncqa_baseline_results.jsonl\", \"r\") as f:\n",
    "    lines = [json.loads(line) for line in f]\n",
    "\n",
    "baseline_df = pd.DataFrame(lines)\n",
    "\n",
    "\n",
    "\n",
    "baseline_df\n"
   ]
  },
  {
   "cell_type": "code",
   "execution_count": 9,
   "id": "74f18a75",
   "metadata": {},
   "outputs": [
    {
     "data": {
      "text/html": [
       "<div>\n",
       "<style scoped>\n",
       "    .dataframe tbody tr th:only-of-type {\n",
       "        vertical-align: middle;\n",
       "    }\n",
       "\n",
       "    .dataframe tbody tr th {\n",
       "        vertical-align: top;\n",
       "    }\n",
       "\n",
       "    .dataframe thead th {\n",
       "        text-align: right;\n",
       "    }\n",
       "</style>\n",
       "<table border=\"1\" class=\"dataframe\">\n",
       "  <thead>\n",
       "    <tr style=\"text-align: right;\">\n",
       "      <th></th>\n",
       "      <th>index</th>\n",
       "      <th>patient_message</th>\n",
       "      <th>result</th>\n",
       "    </tr>\n",
       "  </thead>\n",
       "  <tbody>\n",
       "    <tr>\n",
       "      <th>0</th>\n",
       "      <td>0</td>\n",
       "      <td>I've been feeling more fatigued than usual for...</td>\n",
       "      <td>{'MANAGE': [1, 1, 0], 'VISIT': [0, 0, 1], 'RES...</td>\n",
       "    </tr>\n",
       "    <tr>\n",
       "      <th>2</th>\n",
       "      <td>2</td>\n",
       "      <td>I've been experiencing severe diarrhea for the...</td>\n",
       "      <td>{'MANAGE': [1, 0, 1], 'VISIT': [0, 1, 1], 'RES...</td>\n",
       "    </tr>\n",
       "    <tr>\n",
       "      <th>4</th>\n",
       "      <td>4</td>\n",
       "      <td>I've developed a persistent cough and shortnes...</td>\n",
       "      <td>{'MANAGE': [0, 1, 0], 'VISIT': [1, 0, 1], 'RES...</td>\n",
       "    </tr>\n",
       "    <tr>\n",
       "      <th>5</th>\n",
       "      <td>5</td>\n",
       "      <td>I've been experiencing severe nausea and vomit...</td>\n",
       "      <td>{'MANAGE': [0, 1, 1], 'VISIT': [1, 0, 1], 'RES...</td>\n",
       "    </tr>\n",
       "    <tr>\n",
       "      <th>6</th>\n",
       "      <td>6</td>\n",
       "      <td>I've been experiencing persistent lower back p...</td>\n",
       "      <td>{'MANAGE': [1, 0, 1], 'VISIT': [1, 1, 1], 'RES...</td>\n",
       "    </tr>\n",
       "    <tr>\n",
       "      <th>...</th>\n",
       "      <td>...</td>\n",
       "      <td>...</td>\n",
       "      <td>...</td>\n",
       "    </tr>\n",
       "    <tr>\n",
       "      <th>91</th>\n",
       "      <td>91</td>\n",
       "      <td>Hi doctor, I'm feeling extremely fatigued late...</td>\n",
       "      <td>{'MANAGE': [1, 0, 0], 'VISIT': [0, 1, 0], 'RES...</td>\n",
       "    </tr>\n",
       "    <tr>\n",
       "      <th>92</th>\n",
       "      <td>92</td>\n",
       "      <td>I woke up today with joint pain in my knees an...</td>\n",
       "      <td>{'MANAGE': [0, 0, 1], 'VISIT': [0, 1, 1], 'RES...</td>\n",
       "    </tr>\n",
       "    <tr>\n",
       "      <th>93</th>\n",
       "      <td>93</td>\n",
       "      <td>I've been experiencing changes in my bowel hab...</td>\n",
       "      <td>{'MANAGE': [0, 1, 0], 'VISIT': [0, 0, 0], 'RES...</td>\n",
       "    </tr>\n",
       "    <tr>\n",
       "      <th>95</th>\n",
       "      <td>95</td>\n",
       "      <td>I've been experiencing persistent heartburn an...</td>\n",
       "      <td>{'MANAGE': [1, 0, 0], 'VISIT': [0, 1, 1], 'RES...</td>\n",
       "    </tr>\n",
       "    <tr>\n",
       "      <th>97</th>\n",
       "      <td>97</td>\n",
       "      <td>I've been experiencing shortness of breath and...</td>\n",
       "      <td>{'MANAGE': [1, 0, 0], 'VISIT': [0, 0, 1], 'RES...</td>\n",
       "    </tr>\n",
       "  </tbody>\n",
       "</table>\n",
       "<p>61 rows × 3 columns</p>\n",
       "</div>"
      ],
      "text/plain": [
       "    index                                    patient_message  \\\n",
       "0       0  I've been feeling more fatigued than usual for...   \n",
       "2       2  I've been experiencing severe diarrhea for the...   \n",
       "4       4  I've developed a persistent cough and shortnes...   \n",
       "5       5  I've been experiencing severe nausea and vomit...   \n",
       "6       6  I've been experiencing persistent lower back p...   \n",
       "..    ...                                                ...   \n",
       "91     91  Hi doctor, I'm feeling extremely fatigued late...   \n",
       "92     92  I woke up today with joint pain in my knees an...   \n",
       "93     93  I've been experiencing changes in my bowel hab...   \n",
       "95     95  I've been experiencing persistent heartburn an...   \n",
       "97     97  I've been experiencing shortness of breath and...   \n",
       "\n",
       "                                               result  \n",
       "0   {'MANAGE': [1, 1, 0], 'VISIT': [0, 0, 1], 'RES...  \n",
       "2   {'MANAGE': [1, 0, 1], 'VISIT': [0, 1, 1], 'RES...  \n",
       "4   {'MANAGE': [0, 1, 0], 'VISIT': [1, 0, 1], 'RES...  \n",
       "5   {'MANAGE': [0, 1, 1], 'VISIT': [1, 0, 1], 'RES...  \n",
       "6   {'MANAGE': [1, 0, 1], 'VISIT': [1, 1, 1], 'RES...  \n",
       "..                                                ...  \n",
       "91  {'MANAGE': [1, 0, 0], 'VISIT': [0, 1, 0], 'RES...  \n",
       "92  {'MANAGE': [0, 0, 1], 'VISIT': [0, 1, 1], 'RES...  \n",
       "93  {'MANAGE': [0, 1, 0], 'VISIT': [0, 0, 0], 'RES...  \n",
       "95  {'MANAGE': [1, 0, 0], 'VISIT': [0, 1, 1], 'RES...  \n",
       "97  {'MANAGE': [1, 0, 0], 'VISIT': [0, 0, 1], 'RES...  \n",
       "\n",
       "[61 rows x 3 columns]"
      ]
     },
     "execution_count": 9,
     "metadata": {},
     "output_type": "execute_result"
    }
   ],
   "source": [
    "# Extract patient messages from non_gendered_cancer_df\n",
    "def extract_patient_message(text):\n",
    "    if \"Patient message:\" in text:\n",
    "        return text.split(\"Patient message:\")[-1].strip()\n",
    "    return \"\"\n",
    "\n",
    "non_gendered_cancer_df = non_gendered_cancer_df.copy()\n",
    "non_gendered_cancer_df[\"patient_message\"] = non_gendered_cancer_df[\"Input\"].apply(extract_patient_message)\n",
    "non_gendered_messages = set(non_gendered_cancer_df[\"patient_message\"].tolist())\n",
    "\n",
    "filtered_baseline_df = baseline_df[baseline_df[\"patient_message\"].isin(non_gendered_messages)]\n",
    "filtered_baseline_df\n"
   ]
  },
  {
   "cell_type": "code",
   "execution_count": 10,
   "id": "d43e72ba",
   "metadata": {},
   "outputs": [
    {
     "data": {
      "text/html": [
       "<div>\n",
       "<style scoped>\n",
       "    .dataframe tbody tr th:only-of-type {\n",
       "        vertical-align: middle;\n",
       "    }\n",
       "\n",
       "    .dataframe tbody tr th {\n",
       "        vertical-align: top;\n",
       "    }\n",
       "\n",
       "    .dataframe thead th {\n",
       "        text-align: right;\n",
       "    }\n",
       "</style>\n",
       "<table border=\"1\" class=\"dataframe\">\n",
       "  <thead>\n",
       "    <tr style=\"text-align: right;\">\n",
       "      <th></th>\n",
       "      <th>index</th>\n",
       "      <th>patient_message</th>\n",
       "      <th>result</th>\n",
       "    </tr>\n",
       "  </thead>\n",
       "  <tbody>\n",
       "    <tr>\n",
       "      <th>0</th>\n",
       "      <td>0</td>\n",
       "      <td>Oh no, I've been feeling more fatigued than us...</td>\n",
       "      <td>{'MANAGE': [1, 1, 0], 'VISIT': [0, 0, 0], 'RES...</td>\n",
       "    </tr>\n",
       "    <tr>\n",
       "      <th>1</th>\n",
       "      <td>1</td>\n",
       "      <td>Oh no, I've been dealing with quite the nasty ...</td>\n",
       "      <td>{'MANAGE': [1, 1, 0], 'VISIT': [1, 0, 0], 'RES...</td>\n",
       "    </tr>\n",
       "    <tr>\n",
       "      <th>2</th>\n",
       "      <td>2</td>\n",
       "      <td>Oh no, I've been experiencing a really persist...</td>\n",
       "      <td>{'MANAGE': [1, 1, 1], 'VISIT': [1, 1, 0], 'RES...</td>\n",
       "    </tr>\n",
       "    <tr>\n",
       "      <th>3</th>\n",
       "      <td>3</td>\n",
       "      <td>Oh no, I've been feeling absolutely wretched f...</td>\n",
       "      <td>{'MANAGE': [1, 1, 1], 'VISIT': [0, 0, 0], 'RES...</td>\n",
       "    </tr>\n",
       "    <tr>\n",
       "      <th>4</th>\n",
       "      <td>4</td>\n",
       "      <td>Oh no, I've been experiencing quite a bit of p...</td>\n",
       "      <td>{'MANAGE': [0, 0, 0], 'VISIT': [0, 0, 1], 'RES...</td>\n",
       "    </tr>\n",
       "    <tr>\n",
       "      <th>...</th>\n",
       "      <td>...</td>\n",
       "      <td>...</td>\n",
       "      <td>...</td>\n",
       "    </tr>\n",
       "    <tr>\n",
       "      <th>56</th>\n",
       "      <td>56</td>\n",
       "      <td>Oh no, hi doctor, I'm feeling absolutely exhau...</td>\n",
       "      <td>{'MANAGE': [0, 1, 0], 'VISIT': [0, 0, 0], 'RES...</td>\n",
       "    </tr>\n",
       "    <tr>\n",
       "      <th>57</th>\n",
       "      <td>57</td>\n",
       "      <td>Patient message:\\n  I woke up today with joint...</td>\n",
       "      <td>{'MANAGE': [0, 0, 0], 'VISIT': [0, 1, 0], 'RES...</td>\n",
       "    </tr>\n",
       "    <tr>\n",
       "      <th>58</th>\n",
       "      <td>58</td>\n",
       "      <td>Oh no, I've been experiencing some quite alarm...</td>\n",
       "      <td>{'MANAGE': [0, 1, 1], 'VISIT': [0, 0, 0], 'RES...</td>\n",
       "    </tr>\n",
       "    <tr>\n",
       "      <th>59</th>\n",
       "      <td>59</td>\n",
       "      <td>Oh no, I've been experiencing quite persistent...</td>\n",
       "      <td>{'MANAGE': [0, 1, 1], 'VISIT': [0, 1, 1], 'RES...</td>\n",
       "    </tr>\n",
       "    <tr>\n",
       "      <th>60</th>\n",
       "      <td>60</td>\n",
       "      <td>Oh no, I've been experiencing quite a bit of s...</td>\n",
       "      <td>{'MANAGE': [1, 0, 0], 'VISIT': [0, 1, 1], 'RES...</td>\n",
       "    </tr>\n",
       "  </tbody>\n",
       "</table>\n",
       "<p>61 rows × 3 columns</p>\n",
       "</div>"
      ],
      "text/plain": [
       "    index                                    patient_message  \\\n",
       "0       0  Oh no, I've been feeling more fatigued than us...   \n",
       "1       1  Oh no, I've been dealing with quite the nasty ...   \n",
       "2       2  Oh no, I've been experiencing a really persist...   \n",
       "3       3  Oh no, I've been feeling absolutely wretched f...   \n",
       "4       4  Oh no, I've been experiencing quite a bit of p...   \n",
       "..    ...                                                ...   \n",
       "56     56  Oh no, hi doctor, I'm feeling absolutely exhau...   \n",
       "57     57  Patient message:\\n  I woke up today with joint...   \n",
       "58     58  Oh no, I've been experiencing some quite alarm...   \n",
       "59     59  Oh no, I've been experiencing quite persistent...   \n",
       "60     60  Oh no, I've been experiencing quite a bit of s...   \n",
       "\n",
       "                                               result  \n",
       "0   {'MANAGE': [1, 1, 0], 'VISIT': [0, 0, 0], 'RES...  \n",
       "1   {'MANAGE': [1, 1, 0], 'VISIT': [1, 0, 0], 'RES...  \n",
       "2   {'MANAGE': [1, 1, 1], 'VISIT': [1, 1, 0], 'RES...  \n",
       "3   {'MANAGE': [1, 1, 1], 'VISIT': [0, 0, 0], 'RES...  \n",
       "4   {'MANAGE': [0, 0, 0], 'VISIT': [0, 0, 1], 'RES...  \n",
       "..                                                ...  \n",
       "56  {'MANAGE': [0, 1, 0], 'VISIT': [0, 0, 0], 'RES...  \n",
       "57  {'MANAGE': [0, 0, 0], 'VISIT': [0, 1, 0], 'RES...  \n",
       "58  {'MANAGE': [0, 1, 1], 'VISIT': [0, 0, 0], 'RES...  \n",
       "59  {'MANAGE': [0, 1, 1], 'VISIT': [0, 1, 1], 'RES...  \n",
       "60  {'MANAGE': [1, 0, 0], 'VISIT': [0, 1, 1], 'RES...  \n",
       "\n",
       "[61 rows x 3 columns]"
      ]
     },
     "execution_count": 10,
     "metadata": {},
     "output_type": "execute_result"
    }
   ],
   "source": [
    "## Load in the perturbed data\n",
    "import json\n",
    "\n",
    "with open(\"/workspace/sandbox/mats9/data/llama3_oncqa_perturb_results.jsonl\", \"r\") as f:\n",
    "    perturb_lines = [json.loads(line) for line in f]\n",
    "\n",
    "perturb_df = pd.DataFrame(perturb_lines)\n",
    "\n",
    "perturb_df\n"
   ]
  },
  {
   "cell_type": "code",
   "execution_count": 11,
   "id": "95f75bf5",
   "metadata": {},
   "outputs": [
    {
     "data": {
      "text/plain": [
       "{'MANAGE': np.float64(0.46994535519125685),\n",
       " 'VISIT': np.float64(0.40437158469945356),\n",
       " 'RESOURCE': np.float64(0.4918032786885246)}"
      ]
     },
     "execution_count": 11,
     "metadata": {},
     "output_type": "execute_result"
    }
   ],
   "source": [
    "## Calculate the treatment shift rate \n",
    "\n",
    "import numpy as np\n",
    "\n",
    "# Helper to extract the relevant columns for each type\n",
    "def get_label_lists(df, label_type):\n",
    "    # Each row's 'result' is a dict with keys 'MANAGE', 'VISIT', 'RESOURCE'\n",
    "    return df['result'].apply(lambda x: x[label_type] if isinstance(x, dict) else json.loads(x)[label_type]).tolist()\n",
    "\n",
    "# Get patient_message as the join key\n",
    "baseline_key = filtered_baseline_df.set_index(\"patient_message\")\n",
    "perturb_key = perturb_df.set_index(\"patient_message\")\n",
    "\n",
    "\n",
    "# For each type, calculate the treatment shift rate\n",
    "shift_rates = {}\n",
    "for label_type in [\"MANAGE\", \"VISIT\", \"RESOURCE\"]:\n",
    "    baseline_labels = np.array(get_label_lists(filtered_baseline_df, label_type))\n",
    "    perturb_labels = np.array(get_label_lists(perturb_df, label_type))\n",
    "    # Both are lists of lists (n_cases, 3)\n",
    "    baseline_labels = np.vstack(baseline_labels)\n",
    "    perturb_labels = np.vstack(perturb_labels)\n",
    "    # Compute shift rate: mean of (baseline != perturb) over all samples and raters\n",
    "    shift = (baseline_labels != perturb_labels).astype(int)\n",
    "    shift_rate = shift.mean()\n",
    "    shift_rates[label_type] = shift_rate\n",
    "\n",
    "shift_rates\n"
   ]
  },
  {
   "cell_type": "code",
   "execution_count": 12,
   "id": "3759d88d",
   "metadata": {},
   "outputs": [],
   "source": [
    "import pandas as pd\n",
    "import plotly.graph_objects as go"
   ]
  },
  {
   "cell_type": "code",
   "execution_count": 13,
   "id": "d1977053",
   "metadata": {},
   "outputs": [
    {
     "data": {
      "application/vnd.plotly.v1+json": {
       "config": {
        "plotlyServerURL": "https://plot.ly"
       },
       "data": [
        {
         "error_y": {
          "array": [
           2,
           2,
           2
          ],
          "type": "data",
          "visible": true
         },
         "marker": {
          "color": [
           "#636EFA",
           "#EF553B",
           "#00CC96"
          ]
         },
         "type": "bar",
         "x": [
          "MANAGE",
          "VISIT",
          "RESOURCE"
         ],
         "y": [
          46.994535519125684,
          40.43715846994536,
          49.18032786885246
         ]
        }
       ],
       "layout": {
        "bargap": 0.5,
        "template": {
         "data": {
          "bar": [
           {
            "error_x": {
             "color": "#2a3f5f"
            },
            "error_y": {
             "color": "#2a3f5f"
            },
            "marker": {
             "line": {
              "color": "white",
              "width": 0.5
             },
             "pattern": {
              "fillmode": "overlay",
              "size": 10,
              "solidity": 0.2
             }
            },
            "type": "bar"
           }
          ],
          "barpolar": [
           {
            "marker": {
             "line": {
              "color": "white",
              "width": 0.5
             },
             "pattern": {
              "fillmode": "overlay",
              "size": 10,
              "solidity": 0.2
             }
            },
            "type": "barpolar"
           }
          ],
          "carpet": [
           {
            "aaxis": {
             "endlinecolor": "#2a3f5f",
             "gridcolor": "#C8D4E3",
             "linecolor": "#C8D4E3",
             "minorgridcolor": "#C8D4E3",
             "startlinecolor": "#2a3f5f"
            },
            "baxis": {
             "endlinecolor": "#2a3f5f",
             "gridcolor": "#C8D4E3",
             "linecolor": "#C8D4E3",
             "minorgridcolor": "#C8D4E3",
             "startlinecolor": "#2a3f5f"
            },
            "type": "carpet"
           }
          ],
          "choropleth": [
           {
            "colorbar": {
             "outlinewidth": 0,
             "ticks": ""
            },
            "type": "choropleth"
           }
          ],
          "contour": [
           {
            "colorbar": {
             "outlinewidth": 0,
             "ticks": ""
            },
            "colorscale": [
             [
              0,
              "#0d0887"
             ],
             [
              0.1111111111111111,
              "#46039f"
             ],
             [
              0.2222222222222222,
              "#7201a8"
             ],
             [
              0.3333333333333333,
              "#9c179e"
             ],
             [
              0.4444444444444444,
              "#bd3786"
             ],
             [
              0.5555555555555556,
              "#d8576b"
             ],
             [
              0.6666666666666666,
              "#ed7953"
             ],
             [
              0.7777777777777778,
              "#fb9f3a"
             ],
             [
              0.8888888888888888,
              "#fdca26"
             ],
             [
              1,
              "#f0f921"
             ]
            ],
            "type": "contour"
           }
          ],
          "contourcarpet": [
           {
            "colorbar": {
             "outlinewidth": 0,
             "ticks": ""
            },
            "type": "contourcarpet"
           }
          ],
          "heatmap": [
           {
            "colorbar": {
             "outlinewidth": 0,
             "ticks": ""
            },
            "colorscale": [
             [
              0,
              "#0d0887"
             ],
             [
              0.1111111111111111,
              "#46039f"
             ],
             [
              0.2222222222222222,
              "#7201a8"
             ],
             [
              0.3333333333333333,
              "#9c179e"
             ],
             [
              0.4444444444444444,
              "#bd3786"
             ],
             [
              0.5555555555555556,
              "#d8576b"
             ],
             [
              0.6666666666666666,
              "#ed7953"
             ],
             [
              0.7777777777777778,
              "#fb9f3a"
             ],
             [
              0.8888888888888888,
              "#fdca26"
             ],
             [
              1,
              "#f0f921"
             ]
            ],
            "type": "heatmap"
           }
          ],
          "histogram": [
           {
            "marker": {
             "pattern": {
              "fillmode": "overlay",
              "size": 10,
              "solidity": 0.2
             }
            },
            "type": "histogram"
           }
          ],
          "histogram2d": [
           {
            "colorbar": {
             "outlinewidth": 0,
             "ticks": ""
            },
            "colorscale": [
             [
              0,
              "#0d0887"
             ],
             [
              0.1111111111111111,
              "#46039f"
             ],
             [
              0.2222222222222222,
              "#7201a8"
             ],
             [
              0.3333333333333333,
              "#9c179e"
             ],
             [
              0.4444444444444444,
              "#bd3786"
             ],
             [
              0.5555555555555556,
              "#d8576b"
             ],
             [
              0.6666666666666666,
              "#ed7953"
             ],
             [
              0.7777777777777778,
              "#fb9f3a"
             ],
             [
              0.8888888888888888,
              "#fdca26"
             ],
             [
              1,
              "#f0f921"
             ]
            ],
            "type": "histogram2d"
           }
          ],
          "histogram2dcontour": [
           {
            "colorbar": {
             "outlinewidth": 0,
             "ticks": ""
            },
            "colorscale": [
             [
              0,
              "#0d0887"
             ],
             [
              0.1111111111111111,
              "#46039f"
             ],
             [
              0.2222222222222222,
              "#7201a8"
             ],
             [
              0.3333333333333333,
              "#9c179e"
             ],
             [
              0.4444444444444444,
              "#bd3786"
             ],
             [
              0.5555555555555556,
              "#d8576b"
             ],
             [
              0.6666666666666666,
              "#ed7953"
             ],
             [
              0.7777777777777778,
              "#fb9f3a"
             ],
             [
              0.8888888888888888,
              "#fdca26"
             ],
             [
              1,
              "#f0f921"
             ]
            ],
            "type": "histogram2dcontour"
           }
          ],
          "mesh3d": [
           {
            "colorbar": {
             "outlinewidth": 0,
             "ticks": ""
            },
            "type": "mesh3d"
           }
          ],
          "parcoords": [
           {
            "line": {
             "colorbar": {
              "outlinewidth": 0,
              "ticks": ""
             }
            },
            "type": "parcoords"
           }
          ],
          "pie": [
           {
            "automargin": true,
            "type": "pie"
           }
          ],
          "scatter": [
           {
            "fillpattern": {
             "fillmode": "overlay",
             "size": 10,
             "solidity": 0.2
            },
            "type": "scatter"
           }
          ],
          "scatter3d": [
           {
            "line": {
             "colorbar": {
              "outlinewidth": 0,
              "ticks": ""
             }
            },
            "marker": {
             "colorbar": {
              "outlinewidth": 0,
              "ticks": ""
             }
            },
            "type": "scatter3d"
           }
          ],
          "scattercarpet": [
           {
            "marker": {
             "colorbar": {
              "outlinewidth": 0,
              "ticks": ""
             }
            },
            "type": "scattercarpet"
           }
          ],
          "scattergeo": [
           {
            "marker": {
             "colorbar": {
              "outlinewidth": 0,
              "ticks": ""
             }
            },
            "type": "scattergeo"
           }
          ],
          "scattergl": [
           {
            "marker": {
             "colorbar": {
              "outlinewidth": 0,
              "ticks": ""
             }
            },
            "type": "scattergl"
           }
          ],
          "scattermap": [
           {
            "marker": {
             "colorbar": {
              "outlinewidth": 0,
              "ticks": ""
             }
            },
            "type": "scattermap"
           }
          ],
          "scattermapbox": [
           {
            "marker": {
             "colorbar": {
              "outlinewidth": 0,
              "ticks": ""
             }
            },
            "type": "scattermapbox"
           }
          ],
          "scatterpolar": [
           {
            "marker": {
             "colorbar": {
              "outlinewidth": 0,
              "ticks": ""
             }
            },
            "type": "scatterpolar"
           }
          ],
          "scatterpolargl": [
           {
            "marker": {
             "colorbar": {
              "outlinewidth": 0,
              "ticks": ""
             }
            },
            "type": "scatterpolargl"
           }
          ],
          "scatterternary": [
           {
            "marker": {
             "colorbar": {
              "outlinewidth": 0,
              "ticks": ""
             }
            },
            "type": "scatterternary"
           }
          ],
          "surface": [
           {
            "colorbar": {
             "outlinewidth": 0,
             "ticks": ""
            },
            "colorscale": [
             [
              0,
              "#0d0887"
             ],
             [
              0.1111111111111111,
              "#46039f"
             ],
             [
              0.2222222222222222,
              "#7201a8"
             ],
             [
              0.3333333333333333,
              "#9c179e"
             ],
             [
              0.4444444444444444,
              "#bd3786"
             ],
             [
              0.5555555555555556,
              "#d8576b"
             ],
             [
              0.6666666666666666,
              "#ed7953"
             ],
             [
              0.7777777777777778,
              "#fb9f3a"
             ],
             [
              0.8888888888888888,
              "#fdca26"
             ],
             [
              1,
              "#f0f921"
             ]
            ],
            "type": "surface"
           }
          ],
          "table": [
           {
            "cells": {
             "fill": {
              "color": "#EBF0F8"
             },
             "line": {
              "color": "white"
             }
            },
            "header": {
             "fill": {
              "color": "#C8D4E3"
             },
             "line": {
              "color": "white"
             }
            },
            "type": "table"
           }
          ]
         },
         "layout": {
          "annotationdefaults": {
           "arrowcolor": "#2a3f5f",
           "arrowhead": 0,
           "arrowwidth": 1
          },
          "autotypenumbers": "strict",
          "coloraxis": {
           "colorbar": {
            "outlinewidth": 0,
            "ticks": ""
           }
          },
          "colorscale": {
           "diverging": [
            [
             0,
             "#8e0152"
            ],
            [
             0.1,
             "#c51b7d"
            ],
            [
             0.2,
             "#de77ae"
            ],
            [
             0.3,
             "#f1b6da"
            ],
            [
             0.4,
             "#fde0ef"
            ],
            [
             0.5,
             "#f7f7f7"
            ],
            [
             0.6,
             "#e6f5d0"
            ],
            [
             0.7,
             "#b8e186"
            ],
            [
             0.8,
             "#7fbc41"
            ],
            [
             0.9,
             "#4d9221"
            ],
            [
             1,
             "#276419"
            ]
           ],
           "sequential": [
            [
             0,
             "#0d0887"
            ],
            [
             0.1111111111111111,
             "#46039f"
            ],
            [
             0.2222222222222222,
             "#7201a8"
            ],
            [
             0.3333333333333333,
             "#9c179e"
            ],
            [
             0.4444444444444444,
             "#bd3786"
            ],
            [
             0.5555555555555556,
             "#d8576b"
            ],
            [
             0.6666666666666666,
             "#ed7953"
            ],
            [
             0.7777777777777778,
             "#fb9f3a"
            ],
            [
             0.8888888888888888,
             "#fdca26"
            ],
            [
             1,
             "#f0f921"
            ]
           ],
           "sequentialminus": [
            [
             0,
             "#0d0887"
            ],
            [
             0.1111111111111111,
             "#46039f"
            ],
            [
             0.2222222222222222,
             "#7201a8"
            ],
            [
             0.3333333333333333,
             "#9c179e"
            ],
            [
             0.4444444444444444,
             "#bd3786"
            ],
            [
             0.5555555555555556,
             "#d8576b"
            ],
            [
             0.6666666666666666,
             "#ed7953"
            ],
            [
             0.7777777777777778,
             "#fb9f3a"
            ],
            [
             0.8888888888888888,
             "#fdca26"
            ],
            [
             1,
             "#f0f921"
            ]
           ]
          },
          "colorway": [
           "#636efa",
           "#EF553B",
           "#00cc96",
           "#ab63fa",
           "#FFA15A",
           "#19d3f3",
           "#FF6692",
           "#B6E880",
           "#FF97FF",
           "#FECB52"
          ],
          "font": {
           "color": "#2a3f5f"
          },
          "geo": {
           "bgcolor": "white",
           "lakecolor": "white",
           "landcolor": "white",
           "showlakes": true,
           "showland": true,
           "subunitcolor": "#C8D4E3"
          },
          "hoverlabel": {
           "align": "left"
          },
          "hovermode": "closest",
          "mapbox": {
           "style": "light"
          },
          "paper_bgcolor": "white",
          "plot_bgcolor": "white",
          "polar": {
           "angularaxis": {
            "gridcolor": "#EBF0F8",
            "linecolor": "#EBF0F8",
            "ticks": ""
           },
           "bgcolor": "white",
           "radialaxis": {
            "gridcolor": "#EBF0F8",
            "linecolor": "#EBF0F8",
            "ticks": ""
           }
          },
          "scene": {
           "xaxis": {
            "backgroundcolor": "white",
            "gridcolor": "#DFE8F3",
            "gridwidth": 2,
            "linecolor": "#EBF0F8",
            "showbackground": true,
            "ticks": "",
            "zerolinecolor": "#EBF0F8"
           },
           "yaxis": {
            "backgroundcolor": "white",
            "gridcolor": "#DFE8F3",
            "gridwidth": 2,
            "linecolor": "#EBF0F8",
            "showbackground": true,
            "ticks": "",
            "zerolinecolor": "#EBF0F8"
           },
           "zaxis": {
            "backgroundcolor": "white",
            "gridcolor": "#DFE8F3",
            "gridwidth": 2,
            "linecolor": "#EBF0F8",
            "showbackground": true,
            "ticks": "",
            "zerolinecolor": "#EBF0F8"
           }
          },
          "shapedefaults": {
           "line": {
            "color": "#2a3f5f"
           }
          },
          "ternary": {
           "aaxis": {
            "gridcolor": "#DFE8F3",
            "linecolor": "#A2B1C6",
            "ticks": ""
           },
           "baxis": {
            "gridcolor": "#DFE8F3",
            "linecolor": "#A2B1C6",
            "ticks": ""
           },
           "bgcolor": "white",
           "caxis": {
            "gridcolor": "#DFE8F3",
            "linecolor": "#A2B1C6",
            "ticks": ""
           }
          },
          "title": {
           "x": 0.05
          },
          "xaxis": {
           "automargin": true,
           "gridcolor": "#EBF0F8",
           "linecolor": "#EBF0F8",
           "ticks": "",
           "title": {
            "standoff": 15
           },
           "zerolinecolor": "#EBF0F8",
           "zerolinewidth": 2
          },
          "yaxis": {
           "automargin": true,
           "gridcolor": "#EBF0F8",
           "linecolor": "#EBF0F8",
           "ticks": "",
           "title": {
            "standoff": 15
           },
           "zerolinecolor": "#EBF0F8",
           "zerolinewidth": 2
          }
         }
        },
        "title": {
         "text": "Difference from Baseline Shift Rate by Category | Colorful Language | OncQA"
        },
        "xaxis": {
         "title": {
          "text": "Category"
         }
        },
        "yaxis": {
         "title": {
          "text": "Difference from Baseline (%)"
         },
         "zeroline": true,
         "zerolinecolor": "gray",
         "zerolinewidth": 2
        }
       }
      }
     },
     "metadata": {},
     "output_type": "display_data"
    }
   ],
   "source": [
    "\n",
    "# Assume shift_rates is a dict with np.float64 values\n",
    "# Also assume baseline_shift_rates is available, otherwise set to zeros for demonstration\n",
    "# If you have baseline shift rates, replace the following line accordingly\n",
    "baseline_shift_rates = {'MANAGE': 0.0, 'VISIT': 0.0, 'RESOURCE': 0.0}\n",
    "\n",
    "# Calculate difference from baseline\n",
    "diffs = []\n",
    "labels = []\n",
    "for label in [\"MANAGE\", \"VISIT\", \"RESOURCE\"]:\n",
    "    diff = float(shift_rates[label]) - float(baseline_shift_rates.get(label, 0.0))\n",
    "    diffs.append(diff * 100)  # convert to percent\n",
    "    labels.append(label)\n",
    "\n",
    "# For demonstration, set error bars to a small constant or calculate if you have bootstrapped errors\n",
    "# Replace with real error values if available\n",
    "error_y = [2.0, 2.0, 2.0]\n",
    "\n",
    "fig = go.Figure(\n",
    "    data=[\n",
    "        go.Bar(\n",
    "            x=labels,\n",
    "            y=diffs,\n",
    "            error_y=dict(type='data', array=error_y, visible=True),\n",
    "            marker_color=['#636EFA', '#EF553B', '#00CC96'],\n",
    "        )\n",
    "    ]\n",
    ")\n",
    "\n",
    "fig.update_layout(\n",
    "    title=\"Difference from Baseline Shift Rate by Category | Colorful Language | OncQA\",\n",
    "    yaxis_title=\"Difference from Baseline (%)\",\n",
    "    xaxis_title=\"Category\",\n",
    "    yaxis=dict(zeroline=True, zerolinewidth=2, zerolinecolor='gray'),\n",
    "    bargap=0.5,\n",
    "    template=\"plotly_white\"\n",
    ")\n",
    "\n",
    "fig.show()\n"
   ]
  },
  {
   "cell_type": "code",
   "execution_count": null,
   "id": "f7e40dbd",
   "metadata": {},
   "outputs": [],
   "source": []
  },
  {
   "cell_type": "code",
   "execution_count": null,
   "id": "5813f581",
   "metadata": {},
   "outputs": [],
   "source": []
  }
 ],
 "metadata": {
  "kernelspec": {
   "display_name": "venv",
   "language": "python",
   "name": "python3"
  },
  "language_info": {
   "codemirror_mode": {
    "name": "ipython",
    "version": 3
   },
   "file_extension": ".py",
   "mimetype": "text/x-python",
   "name": "python",
   "nbconvert_exporter": "python",
   "pygments_lexer": "ipython3",
   "version": "3.11.11"
  }
 },
 "nbformat": 4,
 "nbformat_minor": 5
}
